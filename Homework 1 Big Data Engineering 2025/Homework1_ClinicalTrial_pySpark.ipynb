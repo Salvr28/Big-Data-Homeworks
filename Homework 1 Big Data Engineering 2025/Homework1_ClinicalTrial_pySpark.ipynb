{
  "nbformat": 4,
  "nbformat_minor": 0,
  "metadata": {
    "colab": {
      "provenance": [],
      "collapsed_sections": [
        "SV8YcyvEnDeb"
      ]
    },
    "kernelspec": {
      "name": "python3",
      "display_name": "Python 3"
    },
    "language_info": {
      "name": "python"
    }
  },
  "cells": [
    {
      "cell_type": "markdown",
      "source": [
        "#HW1 - Clinical Trials Analytics in PySpark"
      ],
      "metadata": {
        "id": "wPfjp4cHa3s7"
      }
    },
    {
      "cell_type": "markdown",
      "source": [
        "### 1. Spark Installation"
      ],
      "metadata": {
        "id": "pfKYDstK_njq"
      }
    },
    {
      "cell_type": "markdown",
      "source": [
        "\n",
        "Download and install Spark with all its dependencies"
      ],
      "metadata": {
        "id": "vw1jr09UbHiY"
      }
    },
    {
      "cell_type": "code",
      "execution_count": 60,
      "metadata": {
        "id": "uC6WEZqlZzVC"
      },
      "outputs": [],
      "source": [
        "#Install Java8\n",
        "!apt-get install openjdk-8-jdk-headless -qq > /dev/null\n",
        "\n",
        "# download spark3.4.4\n",
        "#!wget -q https://apache.osuosl.org/spark/spark-3.4.4/spark-3.4.4-bin-hadoop3.tgz\n",
        "!wget -q https://dlcdn.apache.org/spark/spark-3.4.4/spark-3.4.4-bin-hadoop3.tgz\n",
        "\n",
        "# unzip it\n",
        "!tar xf spark-3.4.4-bin-hadoop3.tgz\n",
        "\n",
        "# install findspark\n",
        "!pip install -q findspark"
      ]
    },
    {
      "cell_type": "markdown",
      "source": [
        "It's necessary to add enviroment variables to make visible runtime Spark to linux enviroment. We could install different versions of spark and decide later which one we would use."
      ],
      "metadata": {
        "id": "ef01lMs9b3fS"
      }
    },
    {
      "cell_type": "code",
      "source": [
        "import os\n",
        "os.environ[\"JAVA_HOME\"] = \"/usr/lib/jvm/java-8-openjdk-amd64\"\n",
        "os.environ[\"SPARK_HOME\"] = \"/content/spark-3.4.4-bin-hadoop3\""
      ],
      "metadata": {
        "id": "yebiEf7Rcj8K"
      },
      "execution_count": 61,
      "outputs": []
    },
    {
      "cell_type": "markdown",
      "source": [
        "You import the library `findspark` that allow to find and automatically initialize Spark configuration without having to manually configure enviroment variable and other options"
      ],
      "metadata": {
        "id": "O2pNHomCdCrb"
      }
    },
    {
      "cell_type": "code",
      "source": [
        "import findspark\n",
        "findspark.init()\n",
        "\n",
        "# Spark version verification on cluster\n",
        "from pyspark.context import SparkContext\n",
        "sc = SparkContext.getOrCreate()\n",
        "\n",
        "assert \"3.\" in sc.version, \"Verify that the cluster Spark's version is 3.x\""
      ],
      "metadata": {
        "id": "k5cPMSp8egNU"
      },
      "execution_count": 62,
      "outputs": []
    },
    {
      "cell_type": "code",
      "source": [
        "sc"
      ],
      "metadata": {
        "id": "yFViaL7AgB4F",
        "colab": {
          "base_uri": "https://localhost:8080/",
          "height": 196
        },
        "outputId": "a03be1ac-04bb-489a-bd81-666078d5795e"
      },
      "execution_count": 41,
      "outputs": [
        {
          "output_type": "execute_result",
          "data": {
            "text/plain": [
              "<SparkContext master=local[*] appName=pyspark-shell>"
            ],
            "text/html": [
              "\n",
              "        <div>\n",
              "            <p><b>SparkContext</b></p>\n",
              "\n",
              "            <p><a href=\"http://9a32cc3b20ad:4040\">Spark UI</a></p>\n",
              "\n",
              "            <dl>\n",
              "              <dt>Version</dt>\n",
              "                <dd><code>v3.4.4</code></dd>\n",
              "              <dt>Master</dt>\n",
              "                <dd><code>local[*]</code></dd>\n",
              "              <dt>AppName</dt>\n",
              "                <dd><code>pyspark-shell</code></dd>\n",
              "            </dl>\n",
              "        </div>\n",
              "        "
            ]
          },
          "metadata": {},
          "execution_count": 41
        }
      ]
    },
    {
      "cell_type": "markdown",
      "source": [
        "### 2. Loading the Dataset on Spark"
      ],
      "metadata": {
        "id": "KtjeScws_hO5"
      }
    },
    {
      "cell_type": "markdown",
      "source": [
        "\n",
        "RDD is a data representation in Spark, but for simplicity of coding and design, it became necessary to introduce a new, more responsive data model.\n",
        "\n",
        "Spark SQL came to live, it offers to the users the opportunity ot use datasets/dataframes. They are objects tablelike: each column has a name and a type, each row is a combination of column values\n",
        "\n",
        "The SQL engine on Spark translates sql-like operations in RDDs and gives at the end a RDD with the results."
      ],
      "metadata": {
        "id": "fzuxkidegWyZ"
      }
    },
    {
      "cell_type": "code",
      "source": [
        "# Libraries for SQL Spark\n",
        "from pyspark.sql import SparkSession\n",
        "from pyspark.sql import functions\n",
        "from pyspark.sql.functions import split, explode, trim, count, sum, col, current_date, lower, regexp_replace\n",
        "import time\n",
        "\n",
        "spark = SparkSession(sc)\n",
        "print(spark)"
      ],
      "metadata": {
        "id": "4gThEiXYk8mH",
        "colab": {
          "base_uri": "https://localhost:8080/"
        },
        "outputId": "3f388188-e169-4c02-b981-2b68755928eb"
      },
      "execution_count": 63,
      "outputs": [
        {
          "output_type": "stream",
          "name": "stdout",
          "text": [
            "<pyspark.sql.session.SparkSession object at 0x7ecc44a83d10>\n"
          ]
        }
      ]
    },
    {
      "cell_type": "code",
      "source": [
        "import zipfile\n",
        "import requests\n",
        "\n",
        "# Download the zip file from GitHub\n",
        "url = \"https://github.com/Salvr28/Big-Data-Homeworks/raw/main/Data/dimensions_clinicalTrials.zip\"\n",
        "zip_path = \"dimensions_clinicalTrials.zip\"\n",
        "\n",
        "r = requests.get(url)\n",
        "with open(zip_path, 'wb') as f:\n",
        "  f.write(r.content)\n",
        "\n",
        "# Extract the file\n",
        "with zipfile.ZipFile(zip_path, 'r') as zip_ref:\n",
        "  zip_ref.extractall(\".\")\n",
        "\n",
        "# Read the CSV\n",
        "extracted_files = os.listdir(\"./\")\n",
        "print(\"File estratti:\", extracted_files)\n",
        "\n",
        "csvPath = \"./dimensions_clinicalTrials.csv\""
      ],
      "metadata": {
        "colab": {
          "base_uri": "https://localhost:8080/"
        },
        "id": "7qv1RTCJZz2s",
        "outputId": "ffb0a2bf-3ea5-4959-a7d2-2bf634520693"
      },
      "execution_count": 64,
      "outputs": [
        {
          "output_type": "stream",
          "name": "stdout",
          "text": [
            "File estratti: ['.config', 'spark-3.4.4-bin-hadoop3.tgz.2', 'spark-3.4.4-bin-hadoop3.tgz.1', 'spark-3.4.4-bin-hadoop3', 'drive', 'dimensions_clinicalTrials.csv', 'dimensions_clinicalTrials.zip', 'spark-3.4.4-bin-hadoop3.tgz', 'sample_data']\n"
          ]
        }
      ]
    },
    {
      "cell_type": "code",
      "source": [
        "print(csvPath)"
      ],
      "metadata": {
        "colab": {
          "base_uri": "https://localhost:8080/"
        },
        "id": "qW1VL6Yybai8",
        "outputId": "068a2a67-5de2-4f0f-c2ef-75c66ea11d46"
      },
      "execution_count": 44,
      "outputs": [
        {
          "output_type": "stream",
          "name": "stdout",
          "text": [
            "./dimensions_clinicalTrials.csv\n"
          ]
        }
      ]
    },
    {
      "cell_type": "code",
      "source": [
        "from google.colab import drive\n",
        "\n",
        "# Monta Google Drive\n",
        "drive.mount('/content/drive')\n",
        "\n",
        "# Percorso base per i notebooks Colab\n",
        "base_path = '/content/drive/MyDrive/Colab Notebooks'\n",
        "\n",
        "# Percorso completo per la cartella Big Data\n",
        "big_data_path = os.path.join(base_path, 'Big Data')\n",
        "\n",
        "# Verifica se la cartella Big Data esiste, altrimenti creala\n",
        "if not os.path.exists(big_data_path):\n",
        "    os.makedirs(big_data_path)\n",
        "    print(f\"Cartella creata: {big_data_path}\")\n",
        "else:\n",
        "    print(f\"La cartella esiste già: {big_data_path}\")\n",
        "    # Prova a stampare il contenuto se la cartella esiste\n",
        "    try:\n",
        "        print(\"Contenuto della cartella Big Data:\")\n",
        "        print(os.listdir(big_data_path))\n",
        "    except:\n",
        "        print(\"Impossibile leggere il contenuto della cartella\")\n",
        "\n",
        "# Percorso per Homework 1\n",
        "homework1Path = os.path.join(big_data_path, \"Homework 1\")\n",
        "\n",
        "# Verifica se la cartella Homework 1 esiste, altrimenti creala\n",
        "if not os.path.exists(homework1Path):\n",
        "    os.makedirs(homework1Path)\n",
        "    print(f\"Cartella creata: {homework1Path}\")\n",
        "else:\n",
        "    print(f\"La cartella esiste già: {homework1Path}\")"
      ],
      "metadata": {
        "colab": {
          "base_uri": "https://localhost:8080/"
        },
        "id": "O_07NLdmc8v-",
        "outputId": "c4c126a4-0d27-4274-a07d-667f0fc610da"
      },
      "execution_count": 65,
      "outputs": [
        {
          "output_type": "stream",
          "name": "stdout",
          "text": [
            "Drive already mounted at /content/drive; to attempt to forcibly remount, call drive.mount(\"/content/drive\", force_remount=True).\n",
            "La cartella esiste già: /content/drive/MyDrive/Colab Notebooks/Big Data\n",
            "Contenuto della cartella Big Data:\n",
            "['Homework 1']\n",
            "La cartella esiste già: /content/drive/MyDrive/Colab Notebooks/Big Data/Homework 1\n"
          ]
        }
      ]
    },
    {
      "cell_type": "markdown",
      "source": [
        "### Dataset Object Creation"
      ],
      "metadata": {
        "id": "Qw8UX09nZs2b"
      }
    },
    {
      "cell_type": "markdown",
      "source": [
        "Create the Dataset Object with the spark Object `read`"
      ],
      "metadata": {
        "id": "6JFWVwbzpDya"
      }
    },
    {
      "cell_type": "code",
      "source": [
        "# Indentifies types for each column (float, integer, string, etc)\n",
        "# Gets columns names of the first csv's row\n",
        "ctDS = spark.read \\\n",
        "  .option(\"inferSchema\", \"true\") \\\n",
        "  .option(\"header\", \"true\") \\\n",
        "  .option(\"multiline\", \"true\") \\\n",
        "  .option(\"quote\", \"\\\"\") \\\n",
        "  .option(\"escape\", \"\\\"\") \\\n",
        "  .csv(csvPath)\n",
        "\n",
        "# Print the schema\n",
        "ctDS.printSchema()"
      ],
      "metadata": {
        "id": "cdmmHuWDo7_w",
        "colab": {
          "base_uri": "https://localhost:8080/"
        },
        "outputId": "cea73e06-0550-41a3-9ad3-5ee210ce17ab"
      },
      "execution_count": 66,
      "outputs": [
        {
          "output_type": "stream",
          "name": "stdout",
          "text": [
            "root\n",
            " |-- Rank: integer (nullable = true)\n",
            " |-- Trial ID: string (nullable = true)\n",
            " |-- Title: string (nullable = true)\n",
            " |-- Brief title: string (nullable = true)\n",
            " |-- Acronym: string (nullable = true)\n",
            " |-- Abstract: string (nullable = true)\n",
            " |-- Start date: date (nullable = true)\n",
            " |-- Start Year: double (nullable = true)\n",
            " |-- End Date: date (nullable = true)\n",
            " |-- Completion Year: double (nullable = true)\n",
            " |-- Phase: string (nullable = true)\n",
            " |-- Study Type: string (nullable = true)\n",
            " |-- Study Design: string (nullable = true)\n",
            " |-- Conditions: string (nullable = true)\n",
            " |-- Recruitment Status: string (nullable = true)\n",
            " |-- Number of Participants: double (nullable = true)\n",
            " |-- Intervention: string (nullable = true)\n",
            " |-- Gender: string (nullable = true)\n",
            " |-- Age: string (nullable = true)\n",
            " |-- Registry: string (nullable = true)\n",
            " |-- Investigators/Contacts: string (nullable = true)\n",
            " |-- Sponsors/Collaborators: string (nullable = true)\n",
            " |-- City of Sponsor/Collaborator: string (nullable = true)\n",
            " |-- State of Sponsor/Collaborator: string (nullable = true)\n",
            " |-- Country of Sponsor/Collaborator: string (nullable = true)\n",
            " |-- Collaborating Funders: string (nullable = true)\n",
            " |-- Funder Group: string (nullable = true)\n",
            " |-- Funder Country: string (nullable = true)\n",
            " |-- Source Linkout: string (nullable = true)\n",
            " |-- Altmetric Attention Score: double (nullable = true)\n",
            " |-- Dimensions URL: string (nullable = true)\n",
            " |-- Fields of Research (ANZSRC 2020): string (nullable = true)\n",
            " |-- RCDC Categories: string (nullable = true)\n",
            " |-- HRCS HC Categories: string (nullable = true)\n",
            " |-- HRCS RAC Categories: string (nullable = true)\n",
            " |-- Cancer Types: string (nullable = true)\n",
            " |-- CSO Categories: string (nullable = true)\n",
            " |-- AHC: string (nullable = true)\n",
            "\n"
          ]
        }
      ]
    },
    {
      "cell_type": "code",
      "source": [
        "# Let's print some rows\n",
        "ctDS.select(\"Study Design\").show(20, truncate = False)"
      ],
      "metadata": {
        "id": "PWtHGDU5tBLX",
        "collapsed": true,
        "colab": {
          "base_uri": "https://localhost:8080/"
        },
        "outputId": "0619483b-81b8-481a-b46b-0a66ea10d3f3"
      },
      "execution_count": 67,
      "outputs": [
        {
          "output_type": "stream",
          "name": "stdout",
          "text": [
            "+----------------------------------------------------------------------------------------------------------------------------+\n",
            "|Study Design                                                                                                                |\n",
            "+----------------------------------------------------------------------------------------------------------------------------+\n",
            "|Allocation: Randomized; Intervention Model: Parallel Assignment; Masking: None (Open Label); Primary Purpose: Treatment     |\n",
            "|Allocation: N/A; Intervention Model: Single Group Assignment; Masking: None (Open Label); Primary Purpose: Supportive Care  |\n",
            "|Allocation: Randomised Controlled Trial; Primary Purpose: Treatment                                                         |\n",
            "|Allocation: Randomized; Intervention Model: Parallel Assignment; Masking: Double; Primary Purpose: Treatment                |\n",
            "|Observational Model: Cohort                                                                                                 |\n",
            "|Observational Model: Cohort                                                                                                 |\n",
            "|Allocation: Non-Randomized; Intervention Model: Parallel Assignment; Masking: None (Open Label); Primary Purpose: Prevention|\n",
            "|Allocation: Randomized; Intervention Model: Parallel Assignment; Masking: Double; Primary Purpose: Treatment                |\n",
            "|Allocation: Randomized; Intervention Model: Parallel Assignment; Masking: None (Open Label); Primary Purpose: Treatment     |\n",
            "|Observational Model: Case-Only                                                                                              |\n",
            "|Allocation: Randomized; Intervention Model: Parallel Assignment; Masking: Double; Primary Purpose: Treatment                |\n",
            "|Observational Model: Case-Control                                                                                           |\n",
            "|Allocation: Randomized; Intervention Model: Parallel Assignment; Masking: Double; Primary Purpose: Treatment                |\n",
            "|Allocation: Randomized; Intervention Model: Parallel Assignment; Masking: Double; Primary Purpose: Treatment                |\n",
            "|Observational Model: Cohort                                                                                                 |\n",
            "|Observational Model: Other                                                                                                  |\n",
            "|Allocation: Randomized; Intervention Model: Parallel Assignment; Masking: Single; Primary Purpose: Treatment                |\n",
            "|Allocation: Randomized; Intervention Model: Parallel Assignment; Masking: None (Open Label); Primary Purpose: Treatment     |\n",
            "|Allocation: N/A; Intervention Model: Single Group Assignment; Masking: None (Open Label); Primary Purpose: Treatment        |\n",
            "|Allocation: N/A; Intervention Model: Single Group Assignment; Masking: None (Open Label); Primary Purpose: Treatment        |\n",
            "+----------------------------------------------------------------------------------------------------------------------------+\n",
            "only showing top 20 rows\n",
            "\n"
          ]
        }
      ]
    },
    {
      "cell_type": "markdown",
      "source": [
        "### 3. Preprocessing"
      ],
      "metadata": {
        "id": "UD6lq7Q0_ZMn"
      }
    },
    {
      "cell_type": "markdown",
      "source": [
        "\n",
        "At a first sight it could not be clear, but in this dataset there are a lot of duplicate rows. Clean the dataset with dropDuplicates()\n",
        "\n"
      ],
      "metadata": {
        "id": "2avCKixIutVL"
      }
    },
    {
      "cell_type": "code",
      "source": [
        "# Dirty Dataset\n",
        "count_dirty = ctDS.count()\n",
        "\n",
        "# Cleaned Dataset\n",
        "#ctDS = ctDS.fillna(\"NA_TEMP\")\n",
        "ctDS = ctDS.dropDuplicates([\"Trial ID\"])\n",
        "#ctDS = ctDS.replace(\"NA_TEMP\", None)\n",
        "count_clean = ctDS.count()\n",
        "\n",
        "print(\"Dirty: \" + str(count_dirty))\n",
        "print(\"Clean: \" + str(count_clean))\n"
      ],
      "metadata": {
        "id": "GXjfNtETuuLU",
        "colab": {
          "base_uri": "https://localhost:8080/"
        },
        "outputId": "9990fd0e-85a8-4f9c-be43-47727010577a"
      },
      "execution_count": 68,
      "outputs": [
        {
          "output_type": "stream",
          "name": "stdout",
          "text": [
            "Dirty: 15990\n",
            "Clean: 8356\n"
          ]
        }
      ]
    },
    {
      "cell_type": "code",
      "source": [
        "# Before the cleaning there were 7 rows with this \"title\"\n",
        "ctDS.select(\"*\").where(ctDS[\"Title\"] == \"Phase III Study on STem cElls Mobilization in Acute Myocardial Infarction\").show(20,truncate=False)"
      ],
      "metadata": {
        "collapsed": true,
        "id": "-SUFj--qll0y",
        "colab": {
          "base_uri": "https://localhost:8080/"
        },
        "outputId": "649356d6-6bd9-4f23-ac1e-0a289823d798"
      },
      "execution_count": 69,
      "outputs": [
        {
          "output_type": "stream",
          "name": "stdout",
          "text": [
            "+----+-----------+-------------------------------------------------------------------------+--------------------------------------------------------------------+--------+-------------------------------------------------------------------------------------------------------------------------------------------------------------------------------------------------------------------------------------------------------------------------------------------------------------------------------------------------------------------------------------------------------------------------------------------------------------------------------------------------------------------------------------------------------------------------------------------------------------------------------------------------------------------------------------------------------------------------------------------------------------------------------------------------------------------------------------------------------------------------------------------------------------------------------------------------------------------------------------------------------------------------------------------------------------------------------------------------------------------------------------------------------------------------------------------------------------------------------------------------------------------------------------------------------------------------------------------------------------------------------------------------------------------------------------------------------------------------------------------------------------------------------------------------------------------------------------------------------------------------------------------------------------------------------------------------------------------------------------------------------------------------------------------------------------------------------------------------------------------------------------------------------------------------------------------------------+----------+----------+----------+---------------+-------+--------------+-----------------------------------------------------------------------------------------------------------------------+---------------------------------------------------------------------------+------------------+----------------------+---------------------------+------+-------------------+------------------+-------------------------------+---------------------------------------------------------------------------------------------------------------------------------------------------------------------------------------------------------------------------------------------------------------------------------------------------------------------------------------------------------------------------------------------------------------------------------------------------------------------------------------------------------------------------------------------------------------------------------------------------------------------------------------------------------------------------------------------------------------------------------------------------------------------------------------------------------------------------------------------------------------------------------------------------------------------------------------------------------------------------------------------------------------------------------------------------------------------------------------------------------------------------------------------------------------------------------------------------------------------------------------------------------------------------------------------------------------------------------------------------------------------------------------------------------------------------------------------------------------------------------------------------------------------------------------------------------------------------------------------------------------------------------------------------------------------------------------------------------------------------------------------------------------------------------------------------------------------------------------------------------------------------------------------------------------------------------------------------------------------------------------------------------------------------------------------------------------------------------------------------------------+-----------------------------------------------------------------------------------------------------------------------------------------------------------------------------------------------------------------------------------------------------------------------------------------------------------------------------------------------------------------------------------------------------------------------------------------------------------------------------------------+-----------------------------------------------------------------------------------------------------------------------------------------------+-------------------------------------------------------------------------------------------------------------------------------------------------------------------------------------------------------------------------------------------------------------------------------------------------------------------------------------------------------------------------------------+---------------------+------------+--------------+-------------------------------------------+-------------------------+------------------------------------------------------------+---------------------------------------------------------------------------------+----------------------------------------------------------------------------------------------------------------------------------------------------------------------------------------------------------------------------------------------+------------------+-------------------------------+--------------------+--------------+-----------+\n",
            "|Rank|Trial ID   |Title                                                                    |Brief title                                                         |Acronym |Abstract                                                                                                                                                                                                                                                                                                                                                                                                                                                                                                                                                                                                                                                                                                                                                                                                                                                                                                                                                                                                                                                                                                                                                                                                                                                                                                                                                                                                                                                                                                                                                                                                                                                                                                                                                                                                                                                                                                                                               |Start date|Start Year|End Date  |Completion Year|Phase  |Study Type    |Study Design                                                                                                           |Conditions                                                                 |Recruitment Status|Number of Participants|Intervention               |Gender|Age                |Registry          |Investigators/Contacts         |Sponsors/Collaborators                                                                                                                                                                                                                                                                                                                                                                                                                                                                                                                                                                                                                                                                                                                                                                                                                                                                                                                                                                                                                                                                                                                                                                                                                                                                                                                                                                                                                                                                                                                                                                                                                                                                                                                                                                                                                                                                                                                                                                                                                                                                                         |City of Sponsor/Collaborator                                                                                                                                                                                                                                                                                                                                                                                                                                                             |State of Sponsor/Collaborator                                                                                                                  |Country of Sponsor/Collaborator                                                                                                                                                                                                                                                                                                                                                      |Collaborating Funders|Funder Group|Funder Country|Source Linkout                             |Altmetric Attention Score|Dimensions URL                                              |Fields of Research (ANZSRC 2020)                                                 |RCDC Categories                                                                                                                                                                                                                               |HRCS HC Categories|HRCS RAC Categories            |Cancer Types        |CSO Categories|AHC        |\n",
            "+----+-----------+-------------------------------------------------------------------------+--------------------------------------------------------------------+--------+-------------------------------------------------------------------------------------------------------------------------------------------------------------------------------------------------------------------------------------------------------------------------------------------------------------------------------------------------------------------------------------------------------------------------------------------------------------------------------------------------------------------------------------------------------------------------------------------------------------------------------------------------------------------------------------------------------------------------------------------------------------------------------------------------------------------------------------------------------------------------------------------------------------------------------------------------------------------------------------------------------------------------------------------------------------------------------------------------------------------------------------------------------------------------------------------------------------------------------------------------------------------------------------------------------------------------------------------------------------------------------------------------------------------------------------------------------------------------------------------------------------------------------------------------------------------------------------------------------------------------------------------------------------------------------------------------------------------------------------------------------------------------------------------------------------------------------------------------------------------------------------------------------------------------------------------------------+----------+----------+----------+---------------+-------+--------------+-----------------------------------------------------------------------------------------------------------------------+---------------------------------------------------------------------------+------------------+----------------------+---------------------------+------+-------------------+------------------+-------------------------------+---------------------------------------------------------------------------------------------------------------------------------------------------------------------------------------------------------------------------------------------------------------------------------------------------------------------------------------------------------------------------------------------------------------------------------------------------------------------------------------------------------------------------------------------------------------------------------------------------------------------------------------------------------------------------------------------------------------------------------------------------------------------------------------------------------------------------------------------------------------------------------------------------------------------------------------------------------------------------------------------------------------------------------------------------------------------------------------------------------------------------------------------------------------------------------------------------------------------------------------------------------------------------------------------------------------------------------------------------------------------------------------------------------------------------------------------------------------------------------------------------------------------------------------------------------------------------------------------------------------------------------------------------------------------------------------------------------------------------------------------------------------------------------------------------------------------------------------------------------------------------------------------------------------------------------------------------------------------------------------------------------------------------------------------------------------------------------------------------------------+-----------------------------------------------------------------------------------------------------------------------------------------------------------------------------------------------------------------------------------------------------------------------------------------------------------------------------------------------------------------------------------------------------------------------------------------------------------------------------------------+-----------------------------------------------------------------------------------------------------------------------------------------------+-------------------------------------------------------------------------------------------------------------------------------------------------------------------------------------------------------------------------------------------------------------------------------------------------------------------------------------------------------------------------------------+---------------------+------------+--------------+-------------------------------------------+-------------------------+------------------------------------------------------------+---------------------------------------------------------------------------------+----------------------------------------------------------------------------------------------------------------------------------------------------------------------------------------------------------------------------------------------+------------------+-------------------------------+--------------------+--------------+-----------+\n",
            "|100 |NCT01969890|Phase III Study on STem cElls Mobilization in Acute Myocardial Infarction|STem cElls Mobilization in Acute Myocardial Infarction Outcome Trial|STEM-AMI|The purpose of this study is to demonstrate that granulocyte colony-stimulating factor (G-CSF) therapy in addition to state-of-the-art treatment (pharmacological and non pharmacological) is safe and significantly improves clinical outcome in patients with reduced left ventricular ejection fraction (LVEF) (≤45%) after successful reperfusion for large anterior acute myocardial infarction.\\n\\nDetailed Description\\nPost infarction heart failure (HF) remains a major cause of morbidity and mortality. In the United States, more than three million patients, and 700.000 in Italy, have cardiac failure and its most common cause is ischemic heart disease. The major goal to improve post infarction LV function would be the stimulation of neovascularization and the enhancement of regeneration of cardiac myocytes within the infarcted area. Recent experimental studies suggest that bone marrow-derived progenitor cells (BMCs) or circulating endothelial progenitor cells (cEPCs) contribute to the regeneration of infarcted myocardium, to enhance neovascularization of ischemic myocardium, to prevent cardiomyocyte apoptosis, to alter scar formation by reducing the development of myocardial fibrosis and, thereby, to improve cardiac function.G-CSF is a hematopoietic cytokine produced by monocytes, fibroblasts and endothelial cells. G-CSF is known to have multiple functions in normal, steady-state hematopoiesis. It is routinely used to mobilize CD34+ hematopoietic stem cells from the BM into peripheral blood, thus enabling their easier collection compared to BM aspirate procedure. The proven efficacy and safety of G-CSF, both in healthy donors and patients with haematological disease, along with favourable results from studies of CD34+ cell transplantation in patients with MI or ischemia, suggest that G-CSF based BMC transplantation may have an efficacy in patients with MI.|2013-10-01|2013.0    |2018-05-01|2018.0         |Phase 3|Interventional|Allocation: Randomized; Intervention Model: Parallel Assignment; Masking: None (Open Label); Primary Purpose: Treatment|Anterior Acute Myocardial Infarction; Left Ventricular Systolic Dysfunction|Terminated        |532.0                 |G-CSF administration (Drug)|All   |18 Years - 75 Years|ClinicalTrials.gov|Felice Achilli; Giulio Pompilio|Heart Care Foundation; A. Manzoni Hospital; Centro Cardiologico Monzino; Azienda Ospedaliero Universitaria Ospedali Riuniti; Ospedale Generale Provinciale CG Mazzoni - Divisione di Cardiologia; Ospedale San Donato; AORN Giuseppe Moscati - UO Cardiologia-UTIC; Humanitas Gavazzeni; Azienda Ospedaliera Bolognini Seriate; Ospedale Maggiore Carlo Alberto Pizzardi; Ospedale Sant'Elia - Cardiologia-UTIC; Moriggia Pelascini Hospital; Ospedale Sant'Anna - UOC Cardiologia; Azienda Ospedaliera Ospedale Maggiore; Istituti Ospitalieri di Cremona; Azienda Ospedaliero-Universitaria Careggi; Ospedale Policlinico San Martino; Ospedale Misericordia di Grosseto; Presidio Ospedaliero; Alessandro Manzoni Hospital; Ospedale Campo Marte - UO Cardiologia; Ospedale di Circolo e Fondazione Macchi; Azienda Ospedaliera San Gerardo; Ospedale Bassini; Azienda Ospedaliera di Desio e Vimercate; Azienda Ospedaliera Fatebenefratelli e Oftalmico; Fondazione IRCCS Ca' Granda Ospedale Maggiore Policlinico; Centro Cardiologico Monzino; Ospedale San Paolo; Ospedale San Luca - Centro Auxologico - UO Cardiologia; Azienda Ospedaliera Ospedale San Carlo Borromeo; Luigi Sacco Hospital; Ospedale Niguarda Ca' Granda; IRCCS Humanitas Research Hospital; Presidio Ospedaliero Carlo Poma - UO Cardiologia; Ospedale San Francesco - Cardiologia UTIC; Ospedale Giovanni Paolo II - UTIC Cardiologia; Ospedaliera di Piacenza; Azienda Ospedaliera di Padova; AOU Pisana - UO Malattie Cardiovasc. 1-Cisanello; Policlinico San Matteo Fondazione; Arcispedale Santa Maria Nuova - UO Degenza Cardiologica; AO San Giovanni Addolorata - Cardiologia 2; Ospedale Infermi di Rimini; AOUS Giovanni Di Dio Ruggi D'Aragona - UOC UTIC; Azienda Ospedaliero Universitaria San Giovanni Battista; Ospedale di Cattinara; Ca' Foncello Hospital; Ospedale di Circolo di Busto Arsizio; Presidio Ospedaliero di Saronno - UOC Cardiologia; Ospedale dell' Angelo; Ospedale di Belcolle; Ospedale Antonio Cardarelli; University of Naples Federico II; AO Univ. Maggiore della Carità - Cardiologia 2|; ; Milan; Ancona; Ascoli Piceno; Arezzo; Avellino; Bergamo; Seriate; Bologna; Caltanissetta; Gravedona; San Fermo della Battaglia; Crema; Cremona; Florence; Genoa; Grosseto; Lavagna; Lecco; Lucca; Varese; Monza; Milan; Desio; Milan; Milan; Milan; Milan; Milano; Milan; Milan; Milan; Rozzano; Mantova; Nuoro; Olbia; Piacenza; Padova; Pisa; Pavia; Reggio Emilia; Roma; Rimini; Salerno; Turin; Trieste; Treviso; Busto Arsizio; Saronno; Venice; Viterbo; Naples; Naples; Novara|; ; ; ; AP; ; AV; ; ; ; CL; ; CO; ; ; ; ; ; ; ; LU; ; ; ; ; ; ; ; ; MI; ; ; ; ; MN; NU; OT; ; ; PI; ; RE; RM; ; SA; ; ; ; ; VA; ; ; ; Campania;|; ; Italy; Italy; Italy; Italy; Italy; Italy; Italy; Italy; Italy; Italy; Italy; Italy; Italy; Italy; Italy; Italy; Italy; Italy; Italy; Italy; Italy; Italy; Italy; Italy; Italy; Italy; Italy; Italy; Italy; Italy; Italy; Italy; Italy; Italy; Italy; Italy; Italy; Italy; Italy; Italy; Italy; Italy; Italy; Italy; Italy; Italy; Italy; Italy; Italy; Italy; Italy; Italy; Italy|null                 |null        |null          |https://clinicaltrials.gov/show/NCT01969890|1.0                      |https://app.dimensions.ai/details/clinical_trial/NCT01969890|32 Biomedical and Clinical Sciences; 3201 Cardiovascular Medicine and Haematology|Transplantation; Heart Disease; Stem Cell Research - Nonembryonic - Non-Human; Clinical Research; Regenerative Medicine; Cardiovascular; Stem Cell Research - Nonembryonic - Human; Heart Disease - Coronary Heart Disease; Stem Cell Research|Cardiovascular    |5.2 Cellular and gene therapies|Leukemia / Leukaemia|null          |AOU_CAREGGI|\n",
            "+----+-----------+-------------------------------------------------------------------------+--------------------------------------------------------------------+--------+-------------------------------------------------------------------------------------------------------------------------------------------------------------------------------------------------------------------------------------------------------------------------------------------------------------------------------------------------------------------------------------------------------------------------------------------------------------------------------------------------------------------------------------------------------------------------------------------------------------------------------------------------------------------------------------------------------------------------------------------------------------------------------------------------------------------------------------------------------------------------------------------------------------------------------------------------------------------------------------------------------------------------------------------------------------------------------------------------------------------------------------------------------------------------------------------------------------------------------------------------------------------------------------------------------------------------------------------------------------------------------------------------------------------------------------------------------------------------------------------------------------------------------------------------------------------------------------------------------------------------------------------------------------------------------------------------------------------------------------------------------------------------------------------------------------------------------------------------------------------------------------------------------------------------------------------------------+----------+----------+----------+---------------+-------+--------------+-----------------------------------------------------------------------------------------------------------------------+---------------------------------------------------------------------------+------------------+----------------------+---------------------------+------+-------------------+------------------+-------------------------------+---------------------------------------------------------------------------------------------------------------------------------------------------------------------------------------------------------------------------------------------------------------------------------------------------------------------------------------------------------------------------------------------------------------------------------------------------------------------------------------------------------------------------------------------------------------------------------------------------------------------------------------------------------------------------------------------------------------------------------------------------------------------------------------------------------------------------------------------------------------------------------------------------------------------------------------------------------------------------------------------------------------------------------------------------------------------------------------------------------------------------------------------------------------------------------------------------------------------------------------------------------------------------------------------------------------------------------------------------------------------------------------------------------------------------------------------------------------------------------------------------------------------------------------------------------------------------------------------------------------------------------------------------------------------------------------------------------------------------------------------------------------------------------------------------------------------------------------------------------------------------------------------------------------------------------------------------------------------------------------------------------------------------------------------------------------------------------------------------------------+-----------------------------------------------------------------------------------------------------------------------------------------------------------------------------------------------------------------------------------------------------------------------------------------------------------------------------------------------------------------------------------------------------------------------------------------------------------------------------------------+-----------------------------------------------------------------------------------------------------------------------------------------------+-------------------------------------------------------------------------------------------------------------------------------------------------------------------------------------------------------------------------------------------------------------------------------------------------------------------------------------------------------------------------------------+---------------------+------------+--------------+-------------------------------------------+-------------------------+------------------------------------------------------------+---------------------------------------------------------------------------------+----------------------------------------------------------------------------------------------------------------------------------------------------------------------------------------------------------------------------------------------+------------------+-------------------------------+--------------------+--------------+-----------+\n",
            "\n"
          ]
        }
      ]
    },
    {
      "cell_type": "markdown",
      "source": [
        "There's still something wrong...Some columns have pseudo-structured data, like dictionaries and lists. In particular:\n",
        "\n",
        "**Dictionaries**\n",
        "\n",
        "*   Study Design\n",
        "\n",
        "**Lists**\n",
        "\n",
        "*   Conditions\n",
        "*   Investigators/Contacts\n",
        "*   Sponsors/Collaborators\n",
        "*   City of Sponsor/Collaborator\n",
        "*   State of Sponsor/Collaborator\n",
        "*   Country of Sponsor/Collaborator\n",
        "*   Fields of Research (ANZSRC 2020)\n",
        "*   Funder Group\n",
        "*   Funder Country\n",
        "*   RCDC Categories\n",
        "*   HRCS HC Categories\n",
        "*   HRCS RAC Categories\n",
        "*   Cancer Types\n",
        "*   CSO Categories\n",
        "\n",
        "**List of two elements**\n",
        "\n",
        "*   Age (min ; max)\n",
        "\n",
        "For better analytics, we have changed manually the type of these columns with a preprocessing script."
      ],
      "metadata": {
        "id": "fAk0T_NHuNuX"
      }
    },
    {
      "cell_type": "markdown",
      "source": [
        "\n",
        "\n",
        "---\n",
        "\n"
      ],
      "metadata": {
        "id": "I5t15PJut-Hv"
      }
    },
    {
      "cell_type": "markdown",
      "source": [
        "La prima trasformazione riguarda il **preprocessing delle pseudo-liste.**\n",
        "1. Viene definita una lista chiamata `columnsList` che contiene i nomi di tutte le colonne da elaborare (contengono dati delimitati da \";\")\n",
        "2. Per ogni colonna nella lista, utilizzo il metodo `withColumn()` di PySpark per sostituire la colonna originale con una versione trasformata.\n",
        "3. La trasformazione avviene tramite la funzione `expr()` che splitta la stringa in un array utilizzando il separatore `;` e applica una funzione di trasformazione che elimina gli spazi extra con `trim(x)` e converte eventuali stringhe vuote in valori `NULL` per ciascun elemento dell'array.\n",
        "\n",
        "\n"
      ],
      "metadata": {
        "id": "1jM-4p73oY8V"
      }
    },
    {
      "cell_type": "code",
      "source": [
        "from pyspark.sql.functions import expr\n",
        "\n",
        "# All columns that are pseudo-lists\n",
        "columnsList = [\"Conditions\",\"Investigators/Contacts\",\"Sponsors/Collaborators\",\"City of Sponsor/Collaborator\",\"State of Sponsor/Collaborator\",\"Country of Sponsor/Collaborator\",\"Fields of Research (ANZSRC 2020)\",\"RCDC Categories\",\"HRCS HC Categories\",\"HRCS RAC Categories\",\"Cancer Types\",\"CSO Categories\",\"Funder Group\",\"Funder Country\"]\n",
        "\n",
        "# Cicle for all lists\n",
        "for column in columnsList:\n",
        "  ctDS = ctDS.withColumn(\n",
        "      column,\n",
        "      # Wiht expr function, we use sql like preprocessing\n",
        "      expr(f\"\"\"\n",
        "        transform(\n",
        "            split(`{column}`, ';'),\n",
        "            x -> CASE WHEN trim(x) = '' THEN NULL ELSE trim(x) END\n",
        "        )\n",
        "      \"\"\"\n",
        "    )\n",
        "  )\n",
        "\n"
      ],
      "metadata": {
        "collapsed": true,
        "id": "F_drxKEFRmsd"
      },
      "execution_count": 70,
      "outputs": []
    },
    {
      "cell_type": "markdown",
      "source": [
        "La seconda trasformazione ci permette di trasformare la colonna \"Study Design\" in un dizionario, che in PySpark rappresentiamo con il Map Type (Key-Value).\n",
        "1. La funzione UDF permette di creare e applicare una funzione creata dall'utente\n",
        "2. Definiamo quindi la funzione `string_to_map` che crea un dizionario vuoto per memorizzare le coppie chiave-valore, splittando il testo in parti utilizzando il separatore `;`. Se è presente divide la parte in una coppia chiave-valore usando `:` come separatore. Aggiungiamo la coppia chiave-valore al dizionario `result` e restituisce il dizionario completo.\n",
        "3. Creiamo quindi una UDF chiamata `string_to_map_udf` utilizzando la funzione `string_to_map`, specificando che il tipo da ritornare è `MapType(StringType(), StringType())`.\n",
        "4. Applichiamo quindi la funzione UDF alla colonna \"Study Design\" del nostro DataFrame e sostituiamo la colonna originale.\n",
        "\n",
        "Questo ci permetterà di fare operazioni più avanzate nelle nostre analytics."
      ],
      "metadata": {
        "id": "ihwXMsAgsPMD"
      }
    },
    {
      "cell_type": "code",
      "source": [
        "from pyspark.sql.functions import udf\n",
        "from pyspark.sql.types import MapType, StringType\n",
        "\n",
        "def string_to_map(text):\n",
        "    if text is None:\n",
        "        return None\n",
        "    result = {}\n",
        "    parts = text.split(';')\n",
        "    for part in parts:\n",
        "        if ':' in part:\n",
        "            key, value = part.split(':', 1)\n",
        "            result[key.strip()] = value.strip()\n",
        "    return result\n",
        "\n",
        "string_to_map_udf = udf(string_to_map, MapType(StringType(), StringType()))\n",
        "\n",
        "ctDS = ctDS.withColumn(\"Study Design\", string_to_map_udf(col(\"Study Design\")))\n"
      ],
      "metadata": {
        "id": "fMUsVwEQdxAp"
      },
      "execution_count": 71,
      "outputs": []
    },
    {
      "cell_type": "markdown",
      "source": [
        "La terza e ultima trasformazione riguarda la colonna \"Age\" che vogliamo trasformare in un Array Type gestendo i diversi formati di età standardizzandoli in anni.\n",
        "1. Utilizziamo nuovamente UDF definendoci la funzione `age_preprocessing`.\n",
        "2. Questa funzione divide il testo in due parti utilizzando il carattere \"-\" come separatore.\n",
        "3. Elaboriamo prima il limite inferiore di età (prima parte del testo): se questo contiene \"N/A\", manteniamo il valore `None`, altrimenti cerchiamo un numero utilizzando una regex e lo convertiamo in *anni* in base all'unità di tempo trovata.\n",
        "4. Facciamo la stessa elaborazione per il limite superiore di età (seconda parte del testo).\n",
        "5. Registriamo la funzione UDF con tipo di ritorno `ArrayType(FloatType())` per gestire i valori decimali ed applichiamo la UDF alla colonna \"Age\".\n",
        "\n",
        "Questo codice risolve i problemi nei formati inconsistenti (come 18 Years - 65 Years\", \"6 Months - 2 Years\", \"1 Hour - 24 Hours\") ed i valori mancanti."
      ],
      "metadata": {
        "id": "PhqsdtPzuOEd"
      }
    },
    {
      "cell_type": "code",
      "source": [
        "from pyspark.sql.types import ArrayType, IntegerType, FloatType\n",
        "import re\n",
        "\n",
        "def age_preprocessing(text):\n",
        "  if text is None:\n",
        "    return None\n",
        "\n",
        "  # If the text contains 'N/A - N/A', return an array with None, None\n",
        "  if text.strip() == \"N/A - N/A\":\n",
        "    return [None, None]\n",
        "\n",
        "  result = [None, None] #Inizalization with [None, None]\n",
        "  parts = text.split(\"-\")\n",
        "\n",
        "  # Check whether we have exactly two parts\n",
        "  if len(parts) == 2:\n",
        "    #  We manage the minimum value (parts[0])\n",
        "    if \"N/A\" in parts[0]:\n",
        "      result[0] = None\n",
        "    else:\n",
        "      # We search the number\n",
        "      number_match = re.search(r'\\d+(\\.\\d+)?', parts[0])\n",
        "      if number_match:\n",
        "        value = float(number_match.group())\n",
        "\n",
        "        # Convert to years\n",
        "        if \"month\" in parts[0].lower() or \"months\" in parts[0].lower():\n",
        "            result[0] = value / 12  # Convert months to years\n",
        "        elif \"hour\" in parts[0].lower() or \"hours\" in parts[0].lower():\n",
        "            result[0] = value / (24 * 365)  # Convert hours to years\n",
        "        elif \"day\" in parts[0].lower() or \"days\" in parts[0].lower():\n",
        "            result[0] = value / 365  # Convert days to years\n",
        "        elif \"week\" in parts[0].lower() or \"weeks\" in parts[0].lower():\n",
        "            result[0] = value / 52  # Convert weeks to years\n",
        "        else:\n",
        "            result[0] = value  # We assume that it is already in years\n",
        "\n",
        "    # We manage the maximum value (parts[1])\n",
        "    if \"N/A\" in parts[1]:\n",
        "        result[1] = None\n",
        "    else:\n",
        "        number_match = re.search(r'\\d+(\\.\\d+)?', parts[1])\n",
        "        if number_match:\n",
        "            value = float(number_match.group())\n",
        "\n",
        "            if \"month\" in parts[1].lower() or \"months\" in parts[1].lower():\n",
        "                result[1] = value / 12\n",
        "            elif \"hour\" in parts[1].lower() or \"hours\" in parts[1].lower():\n",
        "                result[1] = value / (24 * 365)\n",
        "            elif \"day\" in parts[1].lower() or \"days\" in parts[1].lower():\n",
        "                result[1] = value / 365\n",
        "            elif \"week\" in parts[1].lower() or \"weeks\" in parts[1].lower():\n",
        "                result[1] = value / 52\n",
        "            else:\n",
        "                result[1] = value\n",
        "\n",
        "  return result\n",
        "\n",
        "#Register the UDF\n",
        "age_preprocessing_udf = udf(age_preprocessing, ArrayType(FloatType()))\n",
        "\n",
        "# Apply the UDF to the \"Age\" column.\n",
        "ctDS = ctDS.withColumn(\"Age\", age_preprocessing_udf(col(\"Age\")))\n",
        "\n",
        "'''\n",
        "def age_preprocessing(text):\n",
        "  if text is None:\n",
        "    return None\n",
        "\n",
        "  result = []\n",
        "  parts = text.split(\"-\")\n",
        "  if len(parts) == 2:\n",
        "    for part in parts:\n",
        "      matching = re.search(r'\\d+(\\.\\d+)?',part)\n",
        "      if matching:\n",
        "        result.append(int(matching.group()))\n",
        "      else:\n",
        "        result.append(None)\n",
        "  else:\n",
        "    return None\n",
        "\n",
        "  return result\n",
        "\n",
        "age_preprocessing_udf = udf(age_preprocessing,ArrayType(IntegerType()))\n",
        "\n",
        "ctDS = ctDS.withColumn(\"Age\", age_preprocessing_udf(col(\"Age\")))\n",
        "'''\n"
      ],
      "metadata": {
        "id": "VkVn3iLRndfY",
        "colab": {
          "base_uri": "https://localhost:8080/",
          "height": 122
        },
        "outputId": "ec8c7811-0053-4b6c-c414-d15c35fd84f8"
      },
      "execution_count": 72,
      "outputs": [
        {
          "output_type": "execute_result",
          "data": {
            "text/plain": [
              "'\\ndef age_preprocessing(text):\\n  if text is None:\\n    return None\\n\\n  result = []\\n  parts = text.split(\"-\")\\n  if len(parts) == 2:\\n    for part in parts:\\n      matching = re.search(r\\'\\\\d+(\\\\.\\\\d+)?\\',part)\\n      if matching:\\n        result.append(int(matching.group()))\\n      else:\\n        result.append(None)\\n  else:\\n    return None\\n\\n  return result\\n\\nage_preprocessing_udf = udf(age_preprocessing,ArrayType(IntegerType()))\\n\\nctDS = ctDS.withColumn(\"Age\", age_preprocessing_udf(col(\"Age\")))\\n'"
            ],
            "application/vnd.google.colaboratory.intrinsic+json": {
              "type": "string"
            }
          },
          "metadata": {},
          "execution_count": 72
        }
      ]
    },
    {
      "cell_type": "code",
      "source": [
        "#ctDS.select(\"*\").show(100,truncate = True)\n",
        "ctDS.select(col(\"Conditions\")[0].alias(\"first_condition\")).show(truncate = False)"
      ],
      "metadata": {
        "id": "k-Z5SKUJclIy",
        "collapsed": true,
        "colab": {
          "base_uri": "https://localhost:8080/"
        },
        "outputId": "49fa7623-a150-4e88-a13f-4c2481110646"
      },
      "execution_count": 73,
      "outputs": [
        {
          "output_type": "stream",
          "name": "stdout",
          "text": [
            "+-------------------------+\n",
            "|first_condition          |\n",
            "+-------------------------+\n",
            "|null                     |\n",
            "|null                     |\n",
            "|null                     |\n",
            "|null                     |\n",
            "|null                     |\n",
            "|null                     |\n",
            "|null                     |\n",
            "|null                     |\n",
            "|Chronic myeloid leukaemia|\n",
            "|null                     |\n",
            "|null                     |\n",
            "|null                     |\n",
            "|null                     |\n",
            "|null                     |\n",
            "|Epilepsy                 |\n",
            "|Colorectal cancer NOS    |\n",
            "|null                     |\n",
            "|null                     |\n",
            "|null                     |\n",
            "|null                     |\n",
            "+-------------------------+\n",
            "only showing top 20 rows\n",
            "\n"
          ]
        }
      ]
    },
    {
      "cell_type": "markdown",
      "source": [
        "\n",
        "\n",
        "---\n",
        "Controlliamo la trasformazione sulla colonna Study Design.\n"
      ],
      "metadata": {
        "id": "lCZFATE03tdd"
      }
    },
    {
      "cell_type": "code",
      "source": [
        "total_rows = ctDS.count()\n",
        "null_rows = ctDS.filter(ctDS[\"Study Design\"].isNull()).count()\n",
        "\n",
        "if total_rows == null_rows:\n",
        "    print(\"La colonna è completamente null\")\n",
        "else:\n",
        "    print(f\"La colonna contiene {total_rows - null_rows} valori non-null\")\n",
        "\n",
        "ctDS.select(\"Study Design\")  \\\n",
        "  .filter(ctDS[\"Study Design\"].isNotNull()) \\\n",
        "  .show(truncate=False)"
      ],
      "metadata": {
        "id": "FRJG56IXfkkv",
        "colab": {
          "base_uri": "https://localhost:8080/"
        },
        "outputId": "32adbe31-755c-44ea-a7a0-f0f268d0c16d"
      },
      "execution_count": 74,
      "outputs": [
        {
          "output_type": "stream",
          "name": "stdout",
          "text": [
            "La colonna contiene 7352 valori non-null\n",
            "+------------------------------------------------------------------------------------------------------------------------+\n",
            "|Study Design                                                                                                            |\n",
            "+------------------------------------------------------------------------------------------------------------------------+\n",
            "|{Intervention Model -> Parallel, Masking -> No, Primary Purpose -> Treatment, Allocation -> Randomized Controlled Study}|\n",
            "|{Intervention Model -> Parallel, Masking -> No, Primary Purpose -> Treatment, Allocation -> Randomized Controlled Study}|\n",
            "|{Primary Purpose -> Basic Research/Physiological Study}                                                                 |\n",
            "|{Primary Purpose -> Basic Research/Physiological Study}                                                                 |\n",
            "|{Primary Purpose -> Treatment}                                                                                          |\n",
            "|{Primary Purpose -> Prognosis}                                                                                          |\n",
            "|{Primary Purpose -> Supportive Care}                                                                                    |\n",
            "|{Intervention Model -> Cohort Study}                                                                                    |\n",
            "|{Intervention Model -> Drug Utilisation Study}                                                                          |\n",
            "|{Intervention Model -> Drug Utilisation Study}                                                                          |\n",
            "|{Intervention Model -> Cohort Study}                                                                                    |\n",
            "|{Intervention Model -> Cohort Study}                                                                                    |\n",
            "|{Intervention Model -> Cohort Study}                                                                                    |\n",
            "|{Intervention Model -> Drug Utilisation Study}                                                                          |\n",
            "|{Intervention Model -> Pregnancy Exposure Surveillance Program}                                                         |\n",
            "|{Intervention Model -> Drug Utilisation Study}                                                                          |\n",
            "|{Intervention Model -> Observational Retrospective}                                                                     |\n",
            "|{Intervention Model -> Drug Utilisation Study}                                                                          |\n",
            "|{Intervention Model -> Depends On The Study Implementation}                                                             |\n",
            "|{Intervention Model -> Drug Utilisation Study}                                                                          |\n",
            "+------------------------------------------------------------------------------------------------------------------------+\n",
            "only showing top 20 rows\n",
            "\n"
          ]
        }
      ]
    },
    {
      "cell_type": "code",
      "source": [
        "ctDS.select(\"Study Design\").where(ctDS[\"Trial ID\"]==\"NCT05817903\").show(truncate=False)"
      ],
      "metadata": {
        "id": "_CVfLXw1gV7w",
        "colab": {
          "base_uri": "https://localhost:8080/"
        },
        "outputId": "cbb8822d-0987-431e-cf94-66e29b64e2c7"
      },
      "execution_count": 75,
      "outputs": [
        {
          "output_type": "stream",
          "name": "stdout",
          "text": [
            "+---------------------------------------------------------------------------------------------------------------------------------+\n",
            "|Study Design                                                                                                                     |\n",
            "+---------------------------------------------------------------------------------------------------------------------------------+\n",
            "|{Intervention Model -> Parallel Assignment, Masking -> None (Open Label), Primary Purpose -> Treatment, Allocation -> Randomized}|\n",
            "+---------------------------------------------------------------------------------------------------------------------------------+\n",
            "\n"
          ]
        }
      ]
    },
    {
      "cell_type": "markdown",
      "source": [
        "---\n",
        "Controlliamo trasformazione sulla colonna Age"
      ],
      "metadata": {
        "id": "ipyL43LZ4G1U"
      }
    },
    {
      "cell_type": "code",
      "source": [
        "ctDS.select(\"Age\").where(ctDS[\"Age\"][0].isNotNull() & (ctDS[\"Age\"][0] < 1)).show(truncate=False)"
      ],
      "metadata": {
        "id": "kg49-YGRuh4s",
        "colab": {
          "base_uri": "https://localhost:8080/"
        },
        "outputId": "242853bd-5e7d-4410-cd46-fc571b5edd23"
      },
      "execution_count": 76,
      "outputs": [
        {
          "output_type": "stream",
          "name": "stdout",
          "text": [
            "+--------------------------+\n",
            "|Age                       |\n",
            "+--------------------------+\n",
            "|[0.0, 21.0]               |\n",
            "|[0.16666667, 6.0]         |\n",
            "|[0.16666667, 6.0]         |\n",
            "|[0.0, null]               |\n",
            "|[0.002739726, 18.0]       |\n",
            "|[0.5, 70.0]               |\n",
            "|[0.002739726, 2.5]        |\n",
            "|[0.5, 18.0]               |\n",
            "|[0.5, 5.9166665]          |\n",
            "|[0.15068494, 0.24383561]  |\n",
            "|[0.083333336, 5.0]        |\n",
            "|[0.15068494, 0.24383561]  |\n",
            "|[0.083333336, 60.0]       |\n",
            "|[0.42307693, 0.61538464]  |\n",
            "|[0.083333336, 18.0]       |\n",
            "|[0.083333336, 10.0]       |\n",
            "|[0.6923077, null]         |\n",
            "|[0.083333336, 2.0]        |\n",
            "|[0.001369863, 0.002739726]|\n",
            "|[0.002739726, 17.0]       |\n",
            "+--------------------------+\n",
            "only showing top 20 rows\n",
            "\n"
          ]
        }
      ]
    },
    {
      "cell_type": "markdown",
      "source": [
        "### 4. Analytics"
      ],
      "metadata": {
        "id": "FUbOBZbLfqWK"
      }
    },
    {
      "cell_type": "code",
      "source": [
        "# Save all the results in csv format\n",
        "\n",
        "# create the new repo path\n",
        "resultsPath = os.path.join(homework1Path, \"results\")\n",
        "\n",
        "# Check whether the results folder exists, otherwise create it\n",
        "if not os.path.exists(resultsPath):\n",
        "    os.makedirs(resultsPath)\n",
        "    print(f\"Cartella results creata: {resultsPath}\")\n",
        "else:\n",
        "    print(f\"La cartella results esiste già: {resultsPath}\")"
      ],
      "metadata": {
        "id": "-0u-cXNQguQk",
        "colab": {
          "base_uri": "https://localhost:8080/"
        },
        "outputId": "61d1ee51-40d2-4f4b-caa6-661a358550ec"
      },
      "execution_count": 77,
      "outputs": [
        {
          "output_type": "stream",
          "name": "stdout",
          "text": [
            "La cartella results esiste già: /content/drive/MyDrive/Colab Notebooks/Big Data/Homework 1/results\n"
          ]
        }
      ]
    },
    {
      "cell_type": "code",
      "source": [
        "# Number of studies started per year\n",
        "studiesPerYear = ctDS.select(\"Start Year\") \\\n",
        "  .filter(ctDS[\"Start Year\"].isNotNull()) \\\n",
        "  .groupBy(ctDS[\"Start Year\"]) \\\n",
        "  .count() \\\n",
        "  .withColumnRenamed(\"count\",\"NumStudies per Year\") \\\n",
        "  .orderBy(col(\"NumStudies per Year\").desc())\n",
        "\n",
        "studiesPerYear.show(50,truncate = False)\n",
        "\n",
        "# Saving result in a csv\n",
        "studiesPerYearResult = studiesPerYear.toPandas()\n",
        "studiesPerYearResult.to_csv(os.path.join(resultsPath,\"studiesPerYear.csv\"))\n"
      ],
      "metadata": {
        "id": "ORn1JhiVf0pH",
        "collapsed": true,
        "colab": {
          "base_uri": "https://localhost:8080/"
        },
        "outputId": "a085842d-89be-4204-9598-76d5107c3ea4"
      },
      "execution_count": 78,
      "outputs": [
        {
          "output_type": "stream",
          "name": "stdout",
          "text": [
            "+----------+-------------------+\n",
            "|Start Year|NumStudies per Year|\n",
            "+----------+-------------------+\n",
            "|2021.0    |722                |\n",
            "|2020.0    |661                |\n",
            "|2019.0    |640                |\n",
            "|2018.0    |589                |\n",
            "|2022.0    |585                |\n",
            "|2017.0    |548                |\n",
            "|2015.0    |457                |\n",
            "|2016.0    |446                |\n",
            "|2023.0    |399                |\n",
            "|2014.0    |397                |\n",
            "|2013.0    |370                |\n",
            "|2012.0    |367                |\n",
            "|2011.0    |325                |\n",
            "|2010.0    |295                |\n",
            "|2009.0    |287                |\n",
            "|2008.0    |287                |\n",
            "|2007.0    |226                |\n",
            "|2006.0    |200                |\n",
            "|2005.0    |130                |\n",
            "|2004.0    |101                |\n",
            "|2003.0    |56                 |\n",
            "|2001.0    |45                 |\n",
            "|2002.0    |40                 |\n",
            "|2024.0    |38                 |\n",
            "|2000.0    |35                 |\n",
            "|1998.0    |19                 |\n",
            "|1999.0    |18                 |\n",
            "|1997.0    |11                 |\n",
            "|1995.0    |8                  |\n",
            "|1996.0    |8                  |\n",
            "|1994.0    |7                  |\n",
            "|1993.0    |4                  |\n",
            "|1992.0    |3                  |\n",
            "|1988.0    |2                  |\n",
            "|2025.0    |2                  |\n",
            "|1987.0    |1                  |\n",
            "|1989.0    |1                  |\n",
            "|1991.0    |1                  |\n",
            "+----------+-------------------+\n",
            "\n"
          ]
        }
      ]
    },
    {
      "cell_type": "code",
      "source": [
        "# Average number of participants per study title\n",
        "\n",
        "# Check if the title column is unique, maybe the question is refering title type\n",
        "tot_rows = ctDS.count()\n",
        "\n",
        "distinct_rows = ctDS.select(\"Title\").distinct().count()\n",
        "\n",
        "if tot_rows == distinct_rows:\n",
        "  print(\"They're the same\")\n",
        "else:\n",
        "  print(\"They're NOT the same\")\n",
        "\n",
        "# As shown they aren't the same, so we can group by title\n",
        "print(\"Tot_rows: \" + str(tot_rows))\n",
        "print(\"Distinct_rows: \" + str(distinct_rows))"
      ],
      "metadata": {
        "id": "4Chr9heWhzhQ",
        "colab": {
          "base_uri": "https://localhost:8080/"
        },
        "outputId": "a87c6975-9783-40dc-87a1-a02844bb1d1f"
      },
      "execution_count": 79,
      "outputs": [
        {
          "output_type": "stream",
          "name": "stdout",
          "text": [
            "They're NOT the same\n",
            "Tot_rows: 8356\n",
            "Distinct_rows: 8334\n"
          ]
        }
      ]
    },
    {
      "cell_type": "code",
      "source": [
        "# Check which Title is duplicated, but the trials are different\n",
        "duplicates = ctDS.groupBy(\"Title\") \\\n",
        "  .count() \\\n",
        "  .filter(col(\"count\") > 1)\n",
        "\n",
        "duplicates.select(\"Title\",\"count\").show(truncate=False)"
      ],
      "metadata": {
        "id": "-6Q7s7K_qvnm",
        "colab": {
          "base_uri": "https://localhost:8080/"
        },
        "outputId": "90d8b864-0d45-4183-b822-3109173c9799"
      },
      "execution_count": 80,
      "outputs": [
        {
          "output_type": "stream",
          "name": "stdout",
          "text": [
            "+-----------------------------------------------------------------------------------------------------------------------------------------------------------------------------------------------------------------------------------------------------------------------------+-----+\n",
            "|Title                                                                                                                                                                                                                                                                        |count|\n",
            "+-----------------------------------------------------------------------------------------------------------------------------------------------------------------------------------------------------------------------------------------------------------------------------+-----+\n",
            "|SAlute e LaVoro in Chirurgia Oncologica (SALVO)                                                                                                                                                                                                                              |2    |\n",
            "|non disponibile                                                                                                                                                                                                                                                              |2    |\n",
            "|SPIRIT V: A Clinical Evaluation of the XIENCE V® Everolimus Eluting Coronary Stent System in the Treatment of Patients With de Novo Coronary Artery Lesions                                                                                                                  |2    |\n",
            "|A Phase III, Randomized, Double-Blind, Placebo-Controlled Study to Assess the Efficacy and Safety of Lebrikizumab in Patients With Uncontrolled Asthma Who Are on Inhaled Corticosteroids and a Second Controller Medication                                                 |2    |\n",
            "|A Phase III, Multicenter, Randomized, Double-Masked, Sham-Controlled Study to Assess the Efficacy and Safety of Lampalizumab Administered Intravitreally to Patients With Geographic Atrophy Secondary to Age-Related Macular Degeneration                                   |2    |\n",
            "|A Phase 2/3, Multi-center, Randomized, Double-blind, Placebo-controlled (Part A) and Double-blind, Double-dummy, Active-controlled (Part B), Parallel Group Study to Evaluate the Efficacy and Safety of RPC1063 Administered Orally to Relapsing Multiple Sclerosis Patients|2    |\n",
            "|Immunity Modification of Full Term Infants According to the Type of Feeding and Mode of Delivery                                                                                                                                                                             |2    |\n",
            "|A Phase 3 Randomized, Placebo-Controlled, Double-Blind Study to Evaluate Upadacitinib in Adolescent and Adult Subjects With Moderate to Severe Atopic Dermatitis                                                                                                             |2    |\n",
            "|A Clinical Evaluation of the XIENCE Everolimus Eluting Coronary Stent System in the Treatment of Women With de Novo Coronary Artery Lesions                                                                                                                                  |2    |\n",
            "|NGR018: Randomized Phase II Study of NGR-hTNF Plus an Anthracycline Versus an Anthracycline Alone in Platinum-resistant Ovarian Cancer                                                                                                                                       |2    |\n",
            "|A Phase 3, Double-Blind, Randomized, Vehicle-Controlled, Efficacy and Safety Study of Ruxolitinib Cream in Participants With Prurigo Nodularis                                                                                                                               |2    |\n",
            "|A Phase II/III Multicenter Randomized, Double-Blind, Placebo-Controlled Platform Trial of Potential Disease Modifying Therapies Utilizing Biomarker, Cognitive, and Clinical Endpoints in Dominantly Inherited Alzheimer's Disease                                           |2    |\n",
            "|A Phase 3, Multicenter, Randomized, Double-Blind, Placebo-Controlled Study to Evaluate Efficacy, Safety, and Tolerability of MT-7117 in Adults and Adolescents With Erythropoietic Protoporphyria or X-Linked Protoporphyria                                                 |2    |\n",
            "|A Randomized, Double-blind, Placebo-controlled, Multicenter Phase III Study to Evaluate the Efficacy and Safety of ABX464 Once Daily for Induction Treatment in Subjects With Moderately to Severely Active Ulcerative Colitis                                               |2    |\n",
            "|Immunotherapy Followed By EGFR Inhibitor In Locally Advanced Or Metastatic Squamous Cell Cancer Of The Skin: Tackling Primary And Secondary Resistance                                                                                                                       |2    |\n",
            "|Phase II Trial of Surgery as the Only Treatment for INSS Stage 2A & 2B Neuroblastoma                                                                                                                                                                                         |2    |\n",
            "|A SECOND-LINE, SINGLE ARM, PHASE II CLINICAL STUDY WITH TREMELIMUMAB, A FULLY HUMANIZED ANTI-CTLA-4 MONOCLONAL ANTIBODY, AS MONOTHERAPY IN PATIENTS WITH UNRESECTABLE MALIGNANT MESOTHELIOMA                                                                                 |2    |\n",
            "|A Phase 3 Multicenter, Randomized, Double-Blind, Placebo-Controlled, Parallel-Group Study to Evaluate the Efficacy and Safety of Aducanumab (BIIB037) in Subjects With Early Alzheimer's Disease                                                                             |2    |\n",
            "|Costituzione Della Biobanca Del Microbiota Intestinale e Salivare Umano: Dalla Disbiosi Alla Simbiosi                                                                                                                                                                        |4    |\n",
            "|A Phase III Multicenter Randomized, Double-Blind, Double-Dummy, Parallel-Group Study to Evaluate the Efficacy and Safety of Fenebrutinib Compared With Teriflunomide in Adult Patients With Relapsing Multiple Sclerosis                                                     |2    |\n",
            "+-----------------------------------------------------------------------------------------------------------------------------------------------------------------------------------------------------------------------------------------------------------------------------+-----+\n",
            "\n"
          ]
        }
      ]
    },
    {
      "cell_type": "code",
      "source": [
        "from pyspark.sql.functions import avg\n",
        "\n",
        "# Average number of participants per study title\n",
        "averagePerTitle = ctDS.select(\"Title\",\"Number of Participants\") \\\n",
        "  .filter(ctDS[\"Title\"].isNotNull()) \\\n",
        "  .groupBy(\"Title\") \\\n",
        "  .agg(avg(\"Number of Participants\").alias(\"Average per Title\")) \\\n",
        "  .orderBy(col(\"Average per Title\").desc())\n",
        "\n",
        "averagePerTitle.show(20,truncate=False)\n",
        "\n",
        "averagePerTitleResult = averagePerTitle.toPandas()\n",
        "averagePerTitleResult.to_csv(os.path.join(resultsPath,\"averagePerTitle.csv\"))\n"
      ],
      "metadata": {
        "id": "bG6XYI_tlUx4",
        "colab": {
          "base_uri": "https://localhost:8080/"
        },
        "outputId": "5556250c-49fa-40ad-a70b-032b0f0c70ab"
      },
      "execution_count": 81,
      "outputs": [
        {
          "output_type": "stream",
          "name": "stdout",
          "text": [
            "+----------------------------------------------------------------------------------------------------------------------------------------------------------------------------------------------------------------------------------------------------------------------------------------------------------------------------------------------------------------------------------------------------------------------------------------------------------------------------------------------------------------------------------------------+-----------------+\n",
            "|Title                                                                                                                                                                                                                                                                                                                                                                                                                                                                                                                                         |Average per Title|\n",
            "+----------------------------------------------------------------------------------------------------------------------------------------------------------------------------------------------------------------------------------------------------------------------------------------------------------------------------------------------------------------------------------------------------------------------------------------------------------------------------------------------------------------------------------------------+-----------------+\n",
            "|The epidemiology, severity, and outcomes of children presenting to emergency departments across Europe during the SARS-COV-2 pandemic: the EPISODES study                                                                                                                                                                                                                                                                                                                                                                                     |2400000.0        |\n",
            "|ACCESS template protocol for safety of COVID-19 vaccines                                                                                                                                                                                                                                                                                                                                                                                                                                                                                      |1000000.0        |\n",
            "|National Database of the Virtual Institute of Cerebrovascular Diseases                                                                                                                                                                                                                                                                                                                                                                                                                                                                        |285600.0         |\n",
            "|Computerized Registry of Patients With Venous Thromboembolism (RIETE)                                                                                                                                                                                                                                                                                                                                                                                                                                                                         |120000.0         |\n",
            "|Effect of Pharmacist Involvement on Patient Reporting of Adverse Drug Reactions: A Multiregional Italian Study                                                                                                                                                                                                                                                                                                                                                                                                                                |115000.0         |\n",
            "|CRICKET: Critical Events in Anaesthetised Kids Undergoing Tracheal Intubation                                                                                                                                                                                                                                                                                                                                                                                                                                                                 |105000.0         |\n",
            "|Digital Strategies in Primary Cardiovascular Prevention in the Italian Population                                                                                                                                                                                                                                                                                                                                                                                                                                                             |82800.0          |\n",
            "|RICALOR - Registro Italiano Complicanze Anestesia LOco Regionale - Italian Registry for Complications During Regional Anesthesia                                                                                                                                                                                                                                                                                                                                                                                                              |63692.0          |\n",
            "|What is the Best Interval to Screen Women 45-49 and 70-74 for Breast Cancer                                                                                                                                                                                                                                                                                                                                                                                                                                                                   |60000.0          |\n",
            "|Analysis of In-hospital Acute Kidney Injury Epidemiology, Treatment and Outcomes                                                                                                                                                                                                                                                                                                                                                                                                                                                              |60000.0          |\n",
            "|Cohort Event Monitoring of safety of COVID-19 vaccines in special populations (pregnant and lactating women, children and adolescents, immunocompromised, people with history of allergy, people with prior SARS-CoV-2 infection)                                                                                                                                                                                                                                                                                                             |60000.0          |\n",
            "|HPV as Primary Screening Test in Cervical Cancer Prevention: From DNA to mRNA? A Randomised Controlled Trial Nested in a Double Testing Study With Long Term Follow up                                                                                                                                                                                                                                                                                                                                                                        |60000.0          |\n",
            "|International Randomized Study Comparing Personalized, Risk-Stratified to Standard Breast Cancer Screening In Women Aged 40-70                                                                                                                                                                                                                                                                                                                                                                                                                |53142.0          |\n",
            "|PRospective Evaluation of the European Society of Cardiology 0/1-hour Algorithm's Safety and Efficacy for Triage of Patients With Suspected Myocardial Infarction (PRESC1SE-MI)                                                                                                                                                                                                                                                                                                                                                               |52156.0          |\n",
            "|DianaWeb: Before and After Study Online Based Participatory Research to Test Whether Lifestyle and Diet Are Able to Reduce the Incidence of Recurrences (Local, Remote) or Secondary Cancers, Improve Prognosis and Survival of Breast Cancer                                                                                                                                                                                                                                                                                                 |50000.0          |\n",
            "|A Multicenter, Cross-sectional Study to Characterize the Distribution of Lipoprotein(a) Levels Among Patients With Documented History of Atherosclerotic Cardiovascular Disease                                                                                                                                                                                                                                                                                                                                                               |39480.0          |\n",
            "|Evaluation and Improvement of the Health-care Quality in Semi-intensive Care Units                                                                                                                                                                                                                                                                                                                                                                                                                                                            |39000.0          |\n",
            "|Observational Post-marketing Study on the Safety and Efficacy of Dotarem® (SECURE Study)                                                                                                                                                                                                                                                                                                                                                                                                                                                      |35921.0          |\n",
            "|Antibiotic Prophylaxis for Cataract Surgery Version 7e January 22 2003                                                                                                                                                                                                                                                                                                                                                                                                                                                                        |35000.0          |\n",
            "|ONTARGET ONgoing Telmisartan Alone and in Combination With Ramipril Global Endpoint Trial A Large, Simple Randomized Trial of an Angiotensin II Receptor Antagonist (Telmisartan) and an ACE-Inhibitor (Ramipril) in Patients at High Risk for Cardiovascular Events and TRANSCEND Telmisartan Randomized AssessmeNt Study in aCE iNtolerant Subjects With Cardiovascular Disease. A Parallel Study Comparing the Effects of Telmisartan With Placebo and Outcomes in Patients at High Risk for Cardiovascular Events and Intolerant to ACE-I.|31546.0          |\n",
            "+----------------------------------------------------------------------------------------------------------------------------------------------------------------------------------------------------------------------------------------------------------------------------------------------------------------------------------------------------------------------------------------------------------------------------------------------------------------------------------------------------------------------------------------------+-----------------+\n",
            "only showing top 20 rows\n",
            "\n"
          ]
        }
      ]
    },
    {
      "cell_type": "code",
      "source": [
        "# Top 10 most frequent medical conditions\n",
        "top10MedicalCondition = ctDS.select(explode(ctDS[\"Conditions\"]).alias(\"Condition\")) \\\n",
        "            .filter(col(\"Condition\").isNotNull()) \\\n",
        "            .groupBy(\"Condition\") \\\n",
        "            .count() \\\n",
        "            .withColumnRenamed(\"count\",\"Count per Condition\") \\\n",
        "            .orderBy(col(\"Count per Condition\").desc()) \\\n",
        "            .limit(10)\n",
        "\n",
        "top10MedicalCondition.show(truncate=False)\n",
        "\n",
        "top10MedicalConditionResult = top10MedicalCondition.toPandas()\n",
        "top10MedicalConditionResult.to_csv(os.path.join(resultsPath,\"top10MedicalCondition.csv\"))\n"
      ],
      "metadata": {
        "id": "SQ2TH9vwofpc",
        "colab": {
          "base_uri": "https://localhost:8080/"
        },
        "outputId": "54fd8949-a5ee-49bb-84b7-cf4a9e110743"
      },
      "execution_count": 82,
      "outputs": [
        {
          "output_type": "stream",
          "name": "stdout",
          "text": [
            "+-----------------------+-------------------+\n",
            "|Condition              |Count per Condition|\n",
            "+-----------------------+-------------------+\n",
            "|Breast Cancer          |157                |\n",
            "|Multiple Myeloma       |83                 |\n",
            "|Coronary Artery Disease|71                 |\n",
            "|Heart Failure          |62                 |\n",
            "|Ovarian Cancer         |60                 |\n",
            "|Lung Cancer            |60                 |\n",
            "|Colorectal Cancer      |56                 |\n",
            "|Ulcerative Colitis     |52                 |\n",
            "|Melanoma               |51                 |\n",
            "|Prostate Cancer        |47                 |\n",
            "+-----------------------+-------------------+\n",
            "\n"
          ]
        }
      ]
    },
    {
      "cell_type": "code",
      "source": [
        "# Countries with the highest average number of participants per study\n",
        "from pyspark.sql.functions import array_distinct\n",
        "from pyspark.sql.functions import avg, row_number\n",
        "from pyspark.sql.window import Window\n",
        "\n",
        "# First query to retrieve Avg per study type/country\n",
        "allAvgParticipants = ctDS.withColumn(\"Unique_Countries\", array_distinct(col(\"Country of Sponsor/Collaborator\"))) \\\n",
        "  .select(\"Study Type\", explode(col(\"Unique_Countries\")).alias(\"Country\"),\"Number of Participants\") \\\n",
        "  .filter(col(\"Study Type\").isNotNull() & col(\"Country\").isNotNull() & col(\"Number of Participants\").isNotNull()) \\\n",
        "  .groupBy(\"Study Type\",\"Country\") \\\n",
        "  .agg(avg(\"Number of Participants\").alias(\"Average per Type/Country\")) \\\n",
        "  .orderBy(col(\"Average per Type/Country\").desc()) \\\n",
        "\n",
        "# Define a window to applicate the max to each study type\n",
        "windowSpec = Window.partitionBy(\"Study Type\").orderBy(col(\"Average per Type/Country\").desc())\n",
        "\n",
        "# Filter only max avg for each study type\n",
        "maxCountryAvgPerStudyType = allAvgParticipants.withColumn(\"rank\",row_number().over(windowSpec)) \\\n",
        "  .filter(col(\"rank\")==1) \\\n",
        "  .select(\"Study Type\",\"rank\", \"Country\", \"Average per Type/Country\")\n",
        "\n",
        "maxCountryAvgPerStudyType.show(100,truncate=False)\n",
        "\n",
        "maxCountryAvgPerStudyTypeResult = maxCountryAvgPerStudyType.toPandas()\n",
        "maxCountryAvgPerStudyTypeResult.to_csv(os.path.join(resultsPath,\"maxCountryAvgPerStudyType\"))"
      ],
      "metadata": {
        "id": "aqlR8W-xhcrz",
        "colab": {
          "base_uri": "https://localhost:8080/"
        },
        "outputId": "d264388c-f016-4906-ead2-59f3fae23675"
      },
      "execution_count": 83,
      "outputs": [
        {
          "output_type": "stream",
          "name": "stdout",
          "text": [
            "+-------------------+----+--------+------------------------+\n",
            "|Study Type         |rank|Country |Average per Type/Country|\n",
            "+-------------------+----+--------+------------------------+\n",
            "|Active surveillance|1   |Italy   |115000.0                |\n",
            "|CCT                |1   |Colombia|520.0                   |\n",
            "|Interventional     |1   |Iceland |7924.888888888889       |\n",
            "|Non-interventional |1   |Belgium |8122.5                  |\n",
            "|Observational      |1   |Iceland |609000.0                |\n",
            "|Other              |1   |Italy   |202.0                   |\n",
            "+-------------------+----+--------+------------------------+\n",
            "\n"
          ]
        }
      ]
    },
    {
      "cell_type": "code",
      "source": [
        "# Range di anni (date) in cui hanno partecipato più persone agli studi (DIFFICILE: Bar race chart)\n",
        "# Città che hanno trattato maggiormente una determinata condizione - FATTO\n",
        "# Range di età che viene studiato/si sottopone per una determinata medical condition\n",
        "# Nazione che sponsorizza di più clinical trial indirizzati al genere femminile - FATTO\n",
        "# Nazione con il più alto numero di studi che comprende collaboratori minorenni - FATTO\n",
        "# Stato che studia maggiormente un determinato tipo di cancro - FATTO\n",
        "# Studi/Trial che attualmente sono terminati, con info anche su che tipo di condizioni trattano - FATTO\n",
        "# Studi con Maggiore Visibilità Mediatica (Altmetric Score) - FATTO\n",
        "# Condizioni che in media hanno più visibilità Mediatica (AlMetric Score) - FATTO\n",
        "# Città/Nazione/Stato che ha sponsorizzato più studi - FATTO (CONSIDERANDO FUNDER COUNTRY)\n",
        "# Investigator (studiosi?) che hanno fatto più trial\n",
        "# Quante collaborazioni (trial) ha fatto la Federico II (AHC)\n",
        "# Word Cloud su Brief Title/Title\n",
        "# Sponsor/Collaborator (a coppie) che collaborano di più tra loro\n",
        "# Percentuale di studi completati vs terminati (per patologia)\n",
        "\n",
        "\n",
        "\n",
        "\n",
        "##### ATTENZIONE IN CONDITIONS C'è UN CAMPO MORE CONDITIONS CHE è UN DIZIONARIO #######\n",
        "#### DA RIVEDERE QUERY CON SPONSOR/COLLABORATOR AL POSTO DI FUNDER GROUP ##########\n",
        "#### MIGLIORARE PREPROCESSING CAMPO ETA' (ALCUNE INIZIANO PER MONTH E WEEKS) #######"
      ],
      "metadata": {
        "id": "8OFpHFPwOetc"
      },
      "execution_count": null,
      "outputs": []
    },
    {
      "cell_type": "code",
      "source": [
        "# Città che hanno trattato maggiormente una determinata condizione (Per condizione)\n",
        "\n",
        "# Preprocessing, because select can't include more than one explode at time\n",
        "cityConditionDS = ctDS.withColumn(\"City\",explode(array_distinct(col(\"City of Sponsor/Collaborator\")))) \\\n",
        "  .withColumn(\"Condition\",explode(ctDS[\"Conditions\"]))\n",
        "\n",
        "# Defining the windowSpec\n",
        "windowSpecCityCondition = Window.partitionBy(\"Condition\").orderBy(col(\"NumStudies per City/Condition\").desc())\n",
        "\n",
        "# Here we could filter for a specific city, for instance where City == Bologna\n",
        "cityConditionDS.select(\"City\",\"Condition\")\\\n",
        "  .groupBy(\"City\",\"Condition\") \\\n",
        "  .count() \\\n",
        "  .withColumnRenamed(\"count\",\"NumStudies per City/Condition\") \\\n",
        "  .withColumn(\"rank\",row_number().over(windowSpecCityCondition)) \\\n",
        "  .filter((col(\"rank\") == 1) & (col(\"City\").isNotNull()) & (col(\"NumStudies per City/Condition\") > 1)) \\\n",
        "  .select(\"City\",\"Condition\",\"NumStudies per City/Condition\") \\\n",
        "  .show(20,truncate=False)\n"
      ],
      "metadata": {
        "colab": {
          "base_uri": "https://localhost:8080/"
        },
        "id": "dCggZey4TLFd",
        "outputId": "c2ec367a-13cf-4a73-eb41-12179ca85314"
      },
      "execution_count": null,
      "outputs": [
        {
          "output_type": "stream",
          "name": "stdout",
          "text": [
            "+----------------+---------------------------------------------------+-----------------------------+\n",
            "|City            |Condition                                          |NumStudies per City/Condition|\n",
            "+----------------+---------------------------------------------------+-----------------------------+\n",
            "|Pavia           |AL Amyloidosis                                     |6                            |\n",
            "|Milan           |ALS                                                |3                            |\n",
            "|Naples          |Acid Maltase Deficiency                            |2                            |\n",
            "|Orlando         |Acquired Immunodeficiency Syndrome                 |2                            |\n",
            "|Yorkville       |Acral Lentiginous Melanoma                         |2                            |\n",
            "|Brno            |Acute Ischemic Stroke                              |2                            |\n",
            "|Rome            |Acute Myeloid Leukemia                             |29                           |\n",
            "|Brussels        |Acute Severe Respiratory Failure                   |2                            |\n",
            "|Barcelona       |Acute-On-Chronic Liver Failure                     |2                            |\n",
            "|Ann Arbor       |Adenocarcinoma                                     |2                            |\n",
            "|Gainesville     |Adenovirus Infection                               |2                            |\n",
            "|Rome            |Adult Solid Tumor                                  |2                            |\n",
            "|Barcelona       |Advanced Breast Cancer                             |6                            |\n",
            "|Milan           |Advanced Colorectal Cancer                         |2                            |\n",
            "|Naples          |Advanced Hepatocellular Carcinoma (HCC)            |2                            |\n",
            "|Ann Arbor       |Advanced Lung Non-Squamous Non-Small Cell Carcinoma|2                            |\n",
            "|Milan           |Advanced Malignancies                              |4                            |\n",
            "|Clermont-Ferrand|Advanced Renal Cell Carcinoma                      |2                            |\n",
            "|Milan           |Advanced Solid Tumors                              |11                           |\n",
            "|Toronto         |Advanced Systemic Mastocytosis                     |2                            |\n",
            "+----------------+---------------------------------------------------+-----------------------------+\n",
            "only showing top 20 rows\n",
            "\n"
          ]
        }
      ]
    },
    {
      "cell_type": "code",
      "source": [
        "# Nation that sponsors the most clinical trials for women\n",
        "\n",
        "ctDS.select(explode(array_distinct(ctDS[\"Country of Sponsor/Collaborator\"])).alias(\"Nation\")) \\\n",
        "  .where((ctDS[\"Gender\"] == \"Female\") & (col(\"Nation\").isNotNull())) \\\n",
        "  .groupBy(\"Nation\") \\\n",
        "  .count() \\\n",
        "  .withColumnRenamed(\"count\",\"NumFemaleStudies per Nation\") \\\n",
        "  .orderBy(col(\"NumFemaleStudies per Nation\").desc()) \\\n",
        "  .show(10,truncate=False)\n"
      ],
      "metadata": {
        "colab": {
          "base_uri": "https://localhost:8080/"
        },
        "id": "Ad0Oxvy6gABG",
        "outputId": "061820a8-4332-4252-9825-b5227744585f"
      },
      "execution_count": null,
      "outputs": [
        {
          "output_type": "stream",
          "name": "stdout",
          "text": [
            "+--------------+---------------------------+\n",
            "|Nation        |NumFemaleStudies per Nation|\n",
            "+--------------+---------------------------+\n",
            "|Italy         |582                        |\n",
            "|United States |176                        |\n",
            "|Spain         |133                        |\n",
            "|Belgium       |109                        |\n",
            "|France        |106                        |\n",
            "|Germany       |102                        |\n",
            "|United Kingdom|102                        |\n",
            "|Canada        |75                         |\n",
            "|Poland        |71                         |\n",
            "|Netherlands   |59                         |\n",
            "+--------------+---------------------------+\n",
            "only showing top 10 rows\n",
            "\n"
          ]
        }
      ]
    },
    {
      "cell_type": "code",
      "source": [
        "# Nazione con il più alto numero di studi che comprende collaboratori minorenni\n",
        "ctDS.select(explode(array_distinct(\"Country of Sponsor/Collaborator\")).alias(\"Country\")) \\\n",
        "  .filter((col(\"Age\").isNotNull()) & (col(\"Age\")[0] < 18) & (col(\"Country\").isNotNull())) \\\n",
        "  .groupBy(\"Country\") \\\n",
        "  .count() \\\n",
        "  .withColumnRenamed(\"count\",\"Count of Studies per Country\") \\\n",
        "  .orderBy(col(\"Count of Studies per Country\").desc()) \\\n",
        "  .show(20,truncate=False)"
      ],
      "metadata": {
        "id": "xfHJCySxvDzE",
        "colab": {
          "base_uri": "https://localhost:8080/"
        },
        "outputId": "4a1263da-05d1-4147-f16e-a3af39d08711"
      },
      "execution_count": null,
      "outputs": [
        {
          "output_type": "stream",
          "name": "stdout",
          "text": [
            "+--------------+----------------------------+\n",
            "|Country       |Count of Studies per Country|\n",
            "+--------------+----------------------------+\n",
            "|Italy         |828                         |\n",
            "|United States |475                         |\n",
            "|Spain         |361                         |\n",
            "|France        |356                         |\n",
            "|United Kingdom|342                         |\n",
            "|Germany       |339                         |\n",
            "|Belgium       |265                         |\n",
            "|Canada        |242                         |\n",
            "|Poland        |220                         |\n",
            "|Netherlands   |218                         |\n",
            "|Australia     |190                         |\n",
            "|Israel        |158                         |\n",
            "|Austria       |133                         |\n",
            "|Switzerland   |129                         |\n",
            "|Hungary       |127                         |\n",
            "|Czechia       |126                         |\n",
            "|Sweden        |123                         |\n",
            "|Japan         |115                         |\n",
            "|Brazil        |106                         |\n",
            "|Turkey        |105                         |\n",
            "+--------------+----------------------------+\n",
            "only showing top 20 rows\n",
            "\n"
          ]
        }
      ]
    },
    {
      "cell_type": "code",
      "source": [
        "#Gli stati che studiano di più un determinato tipo di cancro\n",
        "# Preprocessing, because select can't include more than one explode at time\n",
        "stateCancerDS = ctDS.withColumn(\"State\",explode(array_distinct(col(\"State of Sponsor/Collaborator\")))) \\\n",
        "  .withColumn(\"Cancer Type\",explode(ctDS[\"Cancer Types\"]))\n",
        "\n",
        "# Defining the windowSpec\n",
        "windowSpecStateCancer = Window.partitionBy(\"Cancer Type\").orderBy(col(\"NumStudies per State/Cancer\").desc())\n",
        "\n",
        "# Here we could filter for a specific city, for instance where City == Bologna\n",
        "stateCancerDS.select(\"State\",\"Cancer Type\")\\\n",
        "  .groupBy(\"State\",\"Cancer Type\") \\\n",
        "  .count() \\\n",
        "  .withColumnRenamed(\"count\",\"NumStudies per State/Cancer\") \\\n",
        "  .withColumn(\"rank\",row_number().over(windowSpecStateCancer)) \\\n",
        "  .filter((col(\"rank\") == 1) & (col(\"State\").isNotNull())) \\\n",
        "  .show(20,truncate=False)"
      ],
      "metadata": {
        "colab": {
          "base_uri": "https://localhost:8080/"
        },
        "id": "qzkw2jPUR7DO",
        "outputId": "94902fc4-cd09-4834-8d89-1f8ee44612e8"
      },
      "execution_count": null,
      "outputs": [
        {
          "output_type": "stream",
          "name": "stdout",
          "text": [
            "+-----+-----------+---------------------------+----+\n",
            "|State|Cancer Type|NumStudies per State/Cancer|rank|\n",
            "+-----+-----------+---------------------------+----+\n",
            "+-----+-----------+---------------------------+----+\n",
            "\n"
          ]
        }
      ]
    },
    {
      "cell_type": "code",
      "source": [
        "# Per Stati non si può fare perchè gli Stati con rank = 1 sono null, quindi facciamo per città\n",
        "stateCancerDS.select(\"State\",\"Cancer Type\")\\\n",
        "  .groupBy(\"State\",\"Cancer Type\") \\\n",
        "  .count() \\\n",
        "  .withColumnRenamed(\"count\",\"NumStudies per State/Cancer\") \\\n",
        "  .withColumn(\"rank\",row_number().over(windowSpecStateCancer)) \\\n",
        "  .orderBy(col(\"rank\")) \\\n",
        "  .show(100,truncate=False)\n"
      ],
      "metadata": {
        "colab": {
          "base_uri": "https://localhost:8080/"
        },
        "id": "BSzbf-rYXnYI",
        "outputId": "65b0cbb7-fad3-48fc-f1ea-f995b2a93c98"
      },
      "execution_count": null,
      "outputs": [
        {
          "output_type": "stream",
          "name": "stdout",
          "text": [
            "+---------------+----------------------------------------------------------+---------------------------+----+\n",
            "|State          |Cancer Type                                               |NumStudies per State/Cancer|rank|\n",
            "+---------------+----------------------------------------------------------+---------------------------+----+\n",
            "|null           |Kaposi's Sarcoma                                          |4                          |1   |\n",
            "|null           |Anal Cancer                                               |4                          |1   |\n",
            "|null           |Bladder Cancer                                            |58                         |1   |\n",
            "|null           |Blood Cancer                                              |46                         |1   |\n",
            "|null           |Bone Cancer, Osteosarcoma / Malignant Fibrous Histiocytoma|34                         |1   |\n",
            "|null           |Breast Cancer                                             |340                        |1   |\n",
            "|null           |Cervical Cancer                                           |33                         |1   |\n",
            "|null           |Colon and Rectal Cancer                                   |280                        |1   |\n",
            "|null           |Brain Tumor                                               |69                         |1   |\n",
            "|null           |Endometrial Cancer                                        |45                         |1   |\n",
            "|null           |Esophageal / Oesophageal Cancer                           |37                         |1   |\n",
            "|null           |Gallbladder Cancer                                        |6                          |1   |\n",
            "|null           |Gastrointestinal Tract                                    |13                         |1   |\n",
            "|null           |Genital System, Female                                    |8                          |1   |\n",
            "|null           |Genital System, Male                                      |2                          |1   |\n",
            "|null           |Head and Neck Cancer                                      |53                         |1   |\n",
            "|null           |Hodgkin's Disease                                         |59                         |1   |\n",
            "|null           |Ear Cancer                                                |5                          |1   |\n",
            "|null           |Kidney Cancer                                             |69                         |1   |\n",
            "|null           |Laryngeal Cancer                                          |30                         |1   |\n",
            "|null           |Leukemia / Leukaemia                                      |364                        |1   |\n",
            "|null           |Liver Cancer                                              |147                        |1   |\n",
            "|null           |Lung Cancer                                               |431                        |1   |\n",
            "|null           |Melanoma                                                  |98                         |1   |\n",
            "|null           |Myeloma                                                   |129                        |1   |\n",
            "|null           |Nasal Cavity and Paranasal Sinus Cancer                   |5                          |1   |\n",
            "|null           |Nervous System                                            |9                          |1   |\n",
            "|null           |Neuroblastoma                                             |21                         |1   |\n",
            "|null           |Non-Hodgkin's Lymphoma                                    |368                        |1   |\n",
            "|null           |Not Site-Specific Cancer                                  |194                        |1   |\n",
            "|null           |Oral Cavity and Lip Cancer                                |51                         |1   |\n",
            "|null           |Ovarian Cancer                                            |107                        |1   |\n",
            "|null           |Pancreatic Cancer                                         |102                        |1   |\n",
            "|null           |Pharyngeal Cancer                                         |49                         |1   |\n",
            "|null           |Prostate Cancer                                           |106                        |1   |\n",
            "|null           |Respiratory System                                        |6                          |1   |\n",
            "|null           |Salivary Gland Cancer                                     |35                         |1   |\n",
            "|null           |Sarcoma                                                   |88                         |1   |\n",
            "|null           |Skin Cancer                                               |19                         |1   |\n",
            "|null           |Small Intestine Cancer                                    |5                          |1   |\n",
            "|null           |Stomach Cancer                                            |61                         |1   |\n",
            "|null           |Testicular Cancer                                         |4                          |1   |\n",
            "|null           |Thyroid Cancer                                            |18                         |1   |\n",
            "|null           |Urinary System                                            |1                          |1   |\n",
            "|California     |Sarcoma                                                   |23                         |2   |\n",
            "|California     |Genital System, Female                                    |6                          |2   |\n",
            "|Liguria        |Bone Cancer, Osteosarcoma / Malignant Fibrous Histiocytoma|10                         |2   |\n",
            "|New Jersey     |Genital System, Male                                      |1                          |2   |\n",
            "|California     |Head and Neck Cancer                                      |19                         |2   |\n",
            "|Oklahoma       |Anal Cancer                                               |2                          |2   |\n",
            "|California     |Hodgkin's Disease                                         |14                         |2   |\n",
            "|Sardegna       |Kaposi's Sarcoma                                          |1                          |2   |\n",
            "|California     |Breast Cancer                                             |145                        |2   |\n",
            "|New York       |Kidney Cancer                                             |35                         |2   |\n",
            "|California     |Laryngeal Cancer                                          |14                         |2   |\n",
            "|California     |Cervical Cancer                                           |11                         |2   |\n",
            "|New York       |Leukemia / Leukaemia                                      |117                        |2   |\n",
            "|California     |Liver Cancer                                              |68                         |2   |\n",
            "|California     |Colon and Rectal Cancer                                   |68                         |2   |\n",
            "|California     |Lung Cancer                                               |221                        |2   |\n",
            "|California     |Melanoma                                                  |51                         |2   |\n",
            "|California     |Brain Tumor                                               |20                         |2   |\n",
            "|New York       |Myeloma                                                   |50                         |2   |\n",
            "|Florida        |Ear Cancer                                                |2                          |2   |\n",
            "|New South Wales|Nasal Cavity and Paranasal Sinus Cancer                   |1                          |2   |\n",
            "|Texas          |Nervous System                                            |4                          |2   |\n",
            "|Liguria        |Neuroblastoma                                             |17                         |2   |\n",
            "|California     |Endometrial Cancer                                        |13                         |2   |\n",
            "|California     |Non-Hodgkin's Lymphoma                                    |148                        |2   |\n",
            "|California     |Not Site-Specific Cancer                                  |44                         |2   |\n",
            "|New York       |Bladder Cancer                                            |25                         |2   |\n",
            "|California     |Oral Cavity and Lip Cancer                                |18                         |2   |\n",
            "|Florida        |Esophageal / Oesophageal Cancer                           |13                         |2   |\n",
            "|California     |Ovarian Cancer                                            |34                         |2   |\n",
            "|California     |Pancreatic Cancer                                         |30                         |2   |\n",
            "|California     |Pharyngeal Cancer                                         |21                         |2   |\n",
            "|California     |Gallbladder Cancer                                        |5                          |2   |\n",
            "|Florida        |Prostate Cancer                                           |47                         |2   |\n",
            "|California     |Respiratory System                                        |4                          |2   |\n",
            "|Lazio          |Blood Cancer                                              |12                         |2   |\n",
            "|California     |Salivary Gland Cancer                                     |14                         |2   |\n",
            "|Colorado       |Gastrointestinal Tract                                    |7                          |2   |\n",
            "|New York       |Skin Cancer                                               |6                          |2   |\n",
            "|Texas          |Small Intestine Cancer                                    |3                          |2   |\n",
            "|California     |Stomach Cancer                                            |30                         |2   |\n",
            "|New South Wales|Testicular Cancer                                         |1                          |2   |\n",
            "|Maryland       |Thyroid Cancer                                            |5                          |2   |\n",
            "|California     |Myeloma                                                   |42                         |3   |\n",
            "|Westminster    |Nasal Cavity and Paranasal Sinus Cancer                   |1                          |3   |\n",
            "|Maryland       |Cervical Cancer                                           |9                          |3   |\n",
            "|Oregon         |Ear Cancer                                                |2                          |3   |\n",
            "|New York       |Bone Cancer, Osteosarcoma / Malignant Fibrous Histiocytoma|7                          |3   |\n",
            "|Liguria        |Nervous System                                            |3                          |3   |\n",
            "|California     |Blood Cancer                                              |12                         |3   |\n",
            "|New Jersey     |Anal Cancer                                               |2                          |3   |\n",
            "|California     |Kidney Cancer                                             |34                         |3   |\n",
            "|Oslo           |Neuroblastoma                                             |9                          |3   |\n",
            "|Missouri       |Genital System, Female                                    |6                          |3   |\n",
            "|New York       |Non-Hodgkin's Lymphoma                                    |123                        |3   |\n",
            "|Zuid-Holland   |Genital System, Male                                      |1                          |3   |\n",
            "+---------------+----------------------------------------------------------+---------------------------+----+\n",
            "only showing top 100 rows\n",
            "\n"
          ]
        }
      ]
    },
    {
      "cell_type": "code",
      "source": [
        "#Le che studiano di più un determinato tipo di cancro\n",
        "# Preprocessing, because select can't include more than one explode at time\n",
        "cityCancerDS = ctDS.withColumn(\"City\",explode(array_distinct(col(\"City of Sponsor/Collaborator\")))) \\\n",
        "  .withColumn(\"Cancer Type\",explode(ctDS[\"Cancer Types\"]))\n",
        "\n",
        "# Defining the windowSpec\n",
        "windowSpecCityCancer = Window.partitionBy(\"Cancer Type\").orderBy(col(\"NumStudies per City/Cancer\").desc())\n",
        "\n",
        "# Here we could filter for a specific city, for instance where City == Bologna\n",
        "cityCancerDS.select(\"City\",\"Cancer Type\")\\\n",
        "  .groupBy(\"City\",\"Cancer Type\") \\\n",
        "  .count() \\\n",
        "  .withColumnRenamed(\"count\",\"NumStudies per City/Cancer\") \\\n",
        "  .withColumn(\"rank\",row_number().over(windowSpecCityCancer)) \\\n",
        "  .filter((col(\"rank\") == 1) & (col(\"City\").isNotNull())) \\\n",
        "  .orderBy(col(\"NumStudies per City/Cancer\").desc()) \\\n",
        "  .show(20,truncate=False)"
      ],
      "metadata": {
        "colab": {
          "base_uri": "https://localhost:8080/"
        },
        "id": "3tNRR9KCYZub",
        "outputId": "e5141f1d-cddb-440d-f4e1-a69d74a692b0"
      },
      "execution_count": null,
      "outputs": [
        {
          "output_type": "stream",
          "name": "stdout",
          "text": [
            "+-------+----------------------------------------------------------+--------------------------+----+\n",
            "|City   |Cancer Type                                               |NumStudies per City/Cancer|rank|\n",
            "+-------+----------------------------------------------------------+--------------------------+----+\n",
            "|Milan  |Lung Cancer                                               |255                       |1   |\n",
            "|Rome   |Leukemia / Leukaemia                                      |218                       |1   |\n",
            "|Milan  |Non-Hodgkin's Lymphoma                                    |216                       |1   |\n",
            "|Milan  |Breast Cancer                                             |190                       |1   |\n",
            "|Milan  |Colon and Rectal Cancer                                   |136                       |1   |\n",
            "|Milan  |Not Site-Specific Cancer                                  |101                       |1   |\n",
            "|Milan  |Liver Cancer                                              |89                        |1   |\n",
            "|Milan  |Ovarian Cancer                                            |75                        |1   |\n",
            "|Bologna|Myeloma                                                   |74                        |1   |\n",
            "|Milan  |Melanoma                                                  |72                        |1   |\n",
            "|Milan  |Sarcoma                                                   |62                        |1   |\n",
            "|Verona |Pancreatic Cancer                                         |58                        |1   |\n",
            "|Milan  |Kidney Cancer                                             |54                        |1   |\n",
            "|Milan  |Bladder Cancer                                            |51                        |1   |\n",
            "|Milan  |Brain Tumor                                               |50                        |1   |\n",
            "|Milan  |Prostate Cancer                                           |47                        |1   |\n",
            "|Milan  |Stomach Cancer                                            |42                        |1   |\n",
            "|Bologna|Bone Cancer, Osteosarcoma / Malignant Fibrous Histiocytoma|34                        |1   |\n",
            "|Rome   |Blood Cancer                                              |33                        |1   |\n",
            "|Milan  |Head and Neck Cancer                                      |32                        |1   |\n",
            "+-------+----------------------------------------------------------+--------------------------+----+\n",
            "only showing top 20 rows\n",
            "\n"
          ]
        }
      ]
    },
    {
      "cell_type": "code",
      "source": [
        "# Studi/Trial che attualmente sono terminati, con info anche su che tipo di condizioni trattano\n",
        "from pyspark.sql.functions import to_date, current_date\n",
        "\n",
        "ctDS.withColumn(\"End Date\",to_date(\"End Date\",\"yyyy-MM-dd\")) \\\n",
        "  .select(\"Trial ID\",\"End Date\",explode(col(\"Conditions\")).alias(\"Condition\")) \\\n",
        "  .where(col(\"End Date\") < current_date() & (col(\"Condition\").isNotNull())) \\\n",
        "  .orderBy(col(\"End Date\").desc()) \\\n",
        "  .show(truncate=False)"
      ],
      "metadata": {
        "colab": {
          "base_uri": "https://localhost:8080/"
        },
        "id": "R5b23IxdZAse",
        "outputId": "6e29ec23-71b1-41b3-c179-2e5f754a9e49"
      },
      "execution_count": null,
      "outputs": [
        {
          "output_type": "stream",
          "name": "stdout",
          "text": [
            "+--------------+----------+------------------------------------------------------------------------------------------------------------------------------------------------------------------------------+\n",
            "|Trial ID      |End Date  |Condition                                                                                                                                                                     |\n",
            "+--------------+----------+------------------------------------------------------------------------------------------------------------------------------------------------------------------------------+\n",
            "|NCT03370172   |2025-04-24|Hemophilia A                                                                                                                                                                  |\n",
            "|NCT05405114   |2025-04-16|Sickle Cell Disease                                                                                                                                                           |\n",
            "|NCT03884101   |2025-04-10|Endometrial Neoplasms                                                                                                                                                         |\n",
            "|ISRCTN63434223|2025-04-08|Lymphomas and chronic lymphoproliferative syndromes                                                                                                                           |\n",
            "|NCT04290299   |2025-04-08|Endometrial Cancer                                                                                                                                                            |\n",
            "|NCT01772472   |2025-04-03|Breast Cancer                                                                                                                                                                 |\n",
            "|NCT02568267   |2025-04-01|Cholangiocarcinoma                                                                                                                                                            |\n",
            "|NCT03557957   |2025-04-01|Hyponatremia                                                                                                                                                                  |\n",
            "|NCT03073967   |2025-04-01|HSV Infection                                                                                                                                                                 |\n",
            "|NCT03566017   |2025-04-01|Fabry Disease                                                                                                                                                                 |\n",
            "|NCT02568267   |2025-04-01|Lymphoma, Large-Cell, Anaplastic                                                                                                                                              |\n",
            "|NCT03587064   |2025-04-01|Heart Failure                                                                                                                                                                 |\n",
            "|NCT02568267   |2025-04-01|Neuroendocrine Tumors                                                                                                                                                         |\n",
            "|NCT03587064   |2025-04-01|Cardiac Resynchronization Therapy                                                                                                                                             |\n",
            "|NCT02568267   |2025-04-01|Ovarian Cancer                                                                                                                                                                |\n",
            "|NCT02568267   |2025-04-01|Papillary Thyroid Cancer                                                                                                                                                      |\n",
            "|ISRCTN18419418|2025-04-01|Genetic, behavioural and environmental risk factors of metabolic syndrome in people treated with antipsychotics (schizophrenia, bipolar disorder, neurodevelopmental disorder)|\n",
            "|NCT02568267   |2025-04-01|Primary Brain Tumors                                                                                                                                                          |\n",
            "|NCT04253184   |2025-04-01|Bradycardia                                                                                                                                                                   |\n",
            "|NCT02568267   |2025-04-01|Sarcomas                                                                                                                                                                      |\n",
            "+--------------+----------+------------------------------------------------------------------------------------------------------------------------------------------------------------------------------+\n",
            "only showing top 20 rows\n",
            "\n"
          ]
        }
      ]
    },
    {
      "cell_type": "code",
      "source": [
        "# Studi con Maggiore Visibilità Mediatica (Altmetric Score)\n",
        "ctDS.select(\"Trial ID\",\"Altmetric Attention Score\",explode(col(\"Conditions\")).alias(\"Condition\")) \\\n",
        "  .where(col(\"Altmetric Attention Score\").isNotNull() & col(\"Condition\").isNotNull()) \\\n",
        "  .orderBy(col(\"Altmetric Attention Score\").desc()) \\\n",
        "  .show(truncate=False)"
      ],
      "metadata": {
        "colab": {
          "base_uri": "https://localhost:8080/"
        },
        "id": "NqSdhwE1gc_u",
        "outputId": "f195e120-6697-4310-9de5-2031634ffaeb"
      },
      "execution_count": null,
      "outputs": [
        {
          "output_type": "stream",
          "name": "stdout",
          "text": [
            "+-----------+-------------------------+-----------------------------------------------+\n",
            "|Trial ID   |Altmetric Attention Score|Condition                                      |\n",
            "+-----------+-------------------------+-----------------------------------------------+\n",
            "|NCT04575597|1703.0                   |Coronavirus Disease (COVID-19)                 |\n",
            "|NCT02819635|1283.0                   |Ulcerative Colitis (UC)                        |\n",
            "|NCT03104400|1247.0                   |Psoriatic Arthritis                            |\n",
            "|NCT03105128|1129.0                   |Crohn's Disease                                |\n",
            "|NCT04292899|1081.0                   |COVID-19                                       |\n",
            "|NCT03398148|1061.0                   |Ulcerative Colitis (UC)                        |\n",
            "|NCT03398135|1030.0                   |Ulcerative Colitis (UC)                        |\n",
            "|NCT03569293|1010.0                   |Atopic Dermatitis                              |\n",
            "|NCT03671148|962.0                    |Psoriatic Arthritis (PsA)                      |\n",
            "|NCT03345836|955.0                    |Crohn's Disease                                |\n",
            "|NCT03738397|940.0                    |Atopic Dermatitis                              |\n",
            "|NCT03653026|891.0                    |Ulcerative Colitis (UC)                        |\n",
            "|NCT03345823|861.0                    |Crohn's Disease                                |\n",
            "|NCT02811861|860.0                    |Renal Cell Carcinoma                           |\n",
            "|NCT03173248|834.0                    |Newly Diagnosed Acute Myeloid Leukemia (AML)   |\n",
            "|NCT03173248|834.0                    |Untreated AML                                  |\n",
            "|NCT03173248|834.0                    |AML Arising From Myelodysplastic Syndrome (MDS)|\n",
            "|NCT03173248|834.0                    |Leukemia, Myeloid, Acute                       |\n",
            "|NCT04557098|834.0                    |Hematological Malignancies                     |\n",
            "|NCT03057951|831.0                    |Heart Failure                                  |\n",
            "+-----------+-------------------------+-----------------------------------------------+\n",
            "only showing top 20 rows\n",
            "\n"
          ]
        }
      ]
    },
    {
      "cell_type": "code",
      "source": [
        "# Condizioni che in media hanno più visibilità Mediatica (AlMetric Attention Score)\n",
        "ctDS.select(explode(col(\"Conditions\")).alias(\"Condition\"),\"Altmetric Attention Score\") \\\n",
        "  .filter(col(\"Condition\").isNotNull()) \\\n",
        "  .groupBy(\"Condition\") \\\n",
        "  .agg(avg(\"Altmetric Attention Score\").alias(\"Average Attention Score\")) \\\n",
        "  .orderBy(col(\"Average Attention Score\").desc()) \\\n",
        "  .show(truncate=False)"
      ],
      "metadata": {
        "colab": {
          "base_uri": "https://localhost:8080/"
        },
        "id": "njY8DzTOlR1X",
        "outputId": "a2b182aa-9a3c-476f-daf7-922551e243f1"
      },
      "execution_count": null,
      "outputs": [
        {
          "output_type": "stream",
          "name": "stdout",
          "text": [
            "+-----------------------------------------------+-----------------------+\n",
            "|Condition                                      |Average Attention Score|\n",
            "+-----------------------------------------------+-----------------------+\n",
            "|Coronavirus Disease (COVID-19)                 |1703.0                 |\n",
            "|Psoriatic Arthritis (PsA)                      |962.0                  |\n",
            "|Untreated AML                                  |834.0                  |\n",
            "|Newly Diagnosed Acute Myeloid Leukemia (AML)   |834.0                  |\n",
            "|AML Arising From Myelodysplastic Syndrome (MDS)|834.0                  |\n",
            "|KRAS p, G12c Mutated /Advanced Metastatic NSCLC|788.0                  |\n",
            "|Central Nervous System Neoplasms               |784.0                  |\n",
            "|Breast Diseases                                |784.0                  |\n",
            "|Brain Neoplasms                                |784.0                  |\n",
            "|Retinal Vein Occlusion                         |774.0                  |\n",
            "|Glioblastoma Multiforme, Adult                 |760.0                  |\n",
            "|Kirsten Rat Sarcoma (KRAS) pG12C Mutation      |757.0                  |\n",
            "|Refractory Metastatic Colorectal Cancer        |699.0                  |\n",
            "|Liver Fibroses                                 |695.0                  |\n",
            "|Myasthenia Gravis, Generalized                 |695.0                  |\n",
            "|Non-Alcoholic Steatohepatitis                  |695.0                  |\n",
            "|Fatty Liver                                    |695.0                  |\n",
            "|Ulcerative Colitis (UC)                        |692.7142857142857      |\n",
            "|Hormone Sensitive Prostate Cancer              |691.0                  |\n",
            "|Lesion in Body Region                          |689.0                  |\n",
            "+-----------------------------------------------+-----------------------+\n",
            "only showing top 20 rows\n",
            "\n"
          ]
        }
      ]
    },
    {
      "cell_type": "code",
      "source": [
        "#Paesi degli enti finanziatori che hanno finanziato maggiormente studi\n",
        "topFunderCountryDS = ctDS.filter(col(\"Funder Country\").isNotNull()) \\\n",
        "                .withColumn(\"Funder Country\", explode(array_distinct(\"Funder Country\"))) \\\n",
        "                .groupBy(\"Funder Country\") \\\n",
        "                .count() \\\n",
        "                .withColumnRenamed(\"count\", \"Number of Studies\") \\\n",
        "                .orderBy(col(\"Number of Studies\").desc()) \\\n",
        "                .select(\"Funder Country\", \"Number of Studies\") \\\n",
        "                .show(20, truncate=False)"
      ],
      "metadata": {
        "colab": {
          "base_uri": "https://localhost:8080/"
        },
        "id": "C1udtSWkJvQA",
        "outputId": "49a13d4b-3a36-4d79-b99b-a01bc136c903",
        "collapsed": true
      },
      "execution_count": 87,
      "outputs": [
        {
          "output_type": "stream",
          "name": "stdout",
          "text": [
            "+--------------+-----------------+\n",
            "|Funder Country|Number of Studies|\n",
            "+--------------+-----------------+\n",
            "|Italy         |1592             |\n",
            "|United States |1529             |\n",
            "|Germany       |277              |\n",
            "|Japan         |191              |\n",
            "|Belgium       |183              |\n",
            "|United Kingdom|182              |\n",
            "|Switzerland   |119              |\n",
            "|Netherlands   |83               |\n",
            "|France        |79               |\n",
            "|Spain         |47               |\n",
            "|Canada        |39               |\n",
            "|Denmark       |36               |\n",
            "|Sweden        |32               |\n",
            "|Australia     |26               |\n",
            "|Austria       |20               |\n",
            "|Norway        |14               |\n",
            "|Portugal      |12               |\n",
            "|Ireland       |11               |\n",
            "|Finland       |10               |\n",
            "|Brazil        |8                |\n",
            "+--------------+-----------------+\n",
            "only showing top 20 rows\n",
            "\n"
          ]
        }
      ]
    },
    {
      "cell_type": "code",
      "source": [
        "#Studiosi che hanno partecipato a più studi\n",
        "topInvestigatorsDs = ctDS.filter(col(\"Investigators/Contacts\").isNotNull()) \\\n",
        "                .withColumn(\"Investigator\", explode(\"Investigators/Contacts\")) \\\n",
        "                .withColumn(\"Investigator\", trim(lower(col(\"Investigator\")))) \\\n",
        "                .groupBy(\"Investigator\") \\\n",
        "                .count() \\\n",
        "                .withColumnRenamed(\"count\", \"Number of Studies\") \\\n",
        "                .orderBy(col(\"Number of Studies\").desc()) \\\n",
        "                .select(\"Investigator\", \"Number of Studies\") \\\n",
        "                .show(20, truncate=False)"
      ],
      "metadata": {
        "colab": {
          "base_uri": "https://localhost:8080/"
        },
        "id": "acBCftXaOlrm",
        "outputId": "38246108-2e29-45c1-b457-77ed8f89125a"
      },
      "execution_count": 97,
      "outputs": [
        {
          "output_type": "stream",
          "name": "stdout",
          "text": [
            "+--------------------+-----------------+\n",
            "|Investigator        |Number of Studies|\n",
            "+--------------------+-----------------+\n",
            "|abbvie inc          |89               |\n",
            "|francesco perrone   |52               |\n",
            "|boehringer ingelheim|52               |\n",
            "|sandro pignata      |27               |\n",
            "|antonio carroccio   |25               |\n",
            "|nicola cascavilla   |25               |\n",
            "|ciro gallo          |24               |\n",
            "|filippo de braud    |24               |\n",
            "|alessandro rambaldi |23               |\n",
            "|lisa licitra        |22               |\n",
            "|nicola di renzo     |21               |\n",
            "|davide chiumello    |21               |\n",
            "|michele spina       |20               |\n",
            "|francesco zaja      |19               |\n",
            "|renato bassan       |18               |\n",
            "|bryan a. faller     |18               |\n",
            "|luca arcaini        |18               |\n",
            "|cesare gridelli     |18               |\n",
            "|fabrizio pane       |18               |\n",
            "|site                |17               |\n",
            "+--------------------+-----------------+\n",
            "only showing top 20 rows\n",
            "\n"
          ]
        }
      ]
    },
    {
      "cell_type": "code",
      "source": [
        "investigatorConditionsDS = ctDS.filter(col(\"Investigators/Contacts\").isNotNull() & col(\"Conditions\").isNotNull()) \\\n",
        "                    .withColumn(\"Investigator\", explode(\"Investigators/Contacts\")) \\\n",
        "                    .withColumn(\"Investigator\", trim(lower(col(\"Investigator\")))) \\\n",
        "                    .withColumn(\"Condition\", explode(\"Conditions\")) \\\n",
        "                    .withColumn(\"Condition\", trim(lower(col(\"Condition\"))))\n",
        "\n",
        "windowSpecNumStudies = Window.partitionBy(\"Investigator\").orderBy(col(\"Number of Studies\").desc())\n",
        "\n",
        "topConditionPerInvestigator = investigatorConditionsDS.groupBy(\"Investigator\", \"Condition\") \\\n",
        "                        .count() \\\n",
        "                        .withColumnRenamed(\"count\", \"Number of Studies\") \\\n",
        "                        .withColumn(\"rank\", row_number().over(windowSpecNumStudies)) \\\n",
        "                        .filter(col(\"rank\") == 1) \\\n",
        "                        .select(\"Investigator\", \"Number of Studies\", \"Condition\") \\\n",
        "                        .orderBy(col(\"Number of Studies\").desc()) \\\n",
        "                        .show(20, truncate=False)"
      ],
      "metadata": {
        "colab": {
          "base_uri": "https://localhost:8080/"
        },
        "id": "8EgiIWFlQheQ",
        "outputId": "389cd5a8-2b67-4005-e197-1b2068ec195d"
      },
      "execution_count": 98,
      "outputs": [
        {
          "output_type": "stream",
          "name": "stdout",
          "text": [
            "+-----------------------+-----------------+---------------------------------------+\n",
            "|Investigator           |Number of Studies|Condition                              |\n",
            "+-----------------------+-----------------+---------------------------------------+\n",
            "|sandro pignata         |14               |ovarian cancer                         |\n",
            "|antonio carroccio      |11               |non-celiac wheat sensitivity           |\n",
            "|abbvie inc             |9                |crohn's disease                        |\n",
            "|francesco perrone      |9                |ovarian cancer                         |\n",
            "|luca elli              |9                |celiac disease                         |\n",
            "|alessio g morganti     |8                |radiotherapy                           |\n",
            "|michelino de laurentiis|8                |metastatic breast cancer               |\n",
            "|fabio puglisi          |7                |metastatic breast cancer               |\n",
            "|lorenzo livi           |6                |breast cancer                          |\n",
            "|alfredo falcone        |6                |metastatic colorectal cancer           |\n",
            "|lucia del mastro       |6                |breast cancer                          |\n",
            "|ciro gallo             |6                |ovarian cancer                         |\n",
            "|nicoletta colombo      |6                |ovarian cancer                         |\n",
            "|francesco cognetti     |6                |metastatic breast cancer               |\n",
            "|sergio amadori         |6                |leukemia                               |\n",
            "|martin j. van den bent |6                |brain and central nervous system tumors|\n",
            "|rosario d'anna         |6                |metabolic syndrome                     |\n",
            "|alessandra fabi        |5                |metastatic breast cancer               |\n",
            "|andrea de matteis      |5                |breast cancer                          |\n",
            "|fabrizio d'ascenzo     |5                |acute coronary syndrome                |\n",
            "+-----------------------+-----------------+---------------------------------------+\n",
            "only showing top 20 rows\n",
            "\n"
          ]
        }
      ]
    },
    {
      "cell_type": "code",
      "source": [
        "topInvestigatorsDs = ctDS.filter(col(\"Investigators/Contacts\").isNotNull()) \\\n",
        "                .withColumn(\"Investigator\", explode(\"Investigators/Contacts\")) \\\n",
        "                .withColumn(\"Investigator\", trim(lower(col(\"Investigator\")))) \\\n",
        "                .groupBy(\"Investigator\") \\\n",
        "                .count() \\\n",
        "                .withColumnRenamed(\"count\", \"Number of Studies\")\n",
        "\n",
        "conditionCountDs = ctDS.filter(col(\"Investigators/Contacts\").isNotNull() & col(\"Conditions\").isNotNull()) \\\n",
        "              .withColumn(\"Investigator\", explode(\"Investigators/Contacts\")) \\\n",
        "              .withColumn(\"Investigator\", trim(lower(col(\"Investigator\")))) \\\n",
        "              .withColumn(\"Condition\", explode(\"Conditions\")) \\\n",
        "              .withColumn(\"Condition\", trim(lower(col(\"Condition\")))) \\\n",
        "              .groupBy(\"Investigator\", \"Condition\") \\\n",
        "              .count() \\\n",
        "              .withColumnRenamed(\"count\", \"ConditionCount\")\n",
        "\n",
        "# Applica una finestra per ottenere la condizione top per ciascun Investigatore\n",
        "windowSpecTopCondition = Window.partitionBy(\"Investigator\").orderBy(col(\"ConditionCount\").desc())\n",
        "\n",
        "topConditionPerInvestigator = conditionCountDs.withColumn(\"rank\", row_number().over(windowSpecTopCondition)) \\\n",
        "              .filter(col(\"rank\")==1) \\\n",
        "              .select(\"Investigator\", \"Condition\") \\\n",
        "              .withColumnRenamed(\"Condition\", \"Top Condition\")\n",
        "\n",
        "#Join\n",
        "topInvestigatorWithCondition = topInvestigatorsDs.join(topConditionPerInvestigator, on=\"Investigator\", how=\"left\") \\\n",
        "              .orderBy(col(\"Number of Studies\").desc()) \\\n",
        "              .show(20,truncate=False)\n"
      ],
      "metadata": {
        "colab": {
          "base_uri": "https://localhost:8080/"
        },
        "id": "Xj2mJ50UUEys",
        "outputId": "47f72175-c8a7-4bb9-9575-1d54d41a9c40"
      },
      "execution_count": 99,
      "outputs": [
        {
          "output_type": "stream",
          "name": "stdout",
          "text": [
            "+--------------------+-----------------+-----------------------------------+\n",
            "|Investigator        |Number of Studies|Top Condition                      |\n",
            "+--------------------+-----------------+-----------------------------------+\n",
            "|abbvie inc          |89               |crohn's disease                    |\n",
            "|francesco perrone   |52               |ovarian cancer                     |\n",
            "|boehringer ingelheim|52               |carcinoma, non-small-cell lung     |\n",
            "|sandro pignata      |27               |ovarian cancer                     |\n",
            "|antonio carroccio   |25               |non-celiac wheat sensitivity       |\n",
            "|nicola cascavilla   |25               |acute myeloid leukemia             |\n",
            "|ciro gallo          |24               |ovarian cancer                     |\n",
            "|filippo de braud    |24               |breast cancer                      |\n",
            "|alessandro rambaldi |23               |chronic myeloid leukemia           |\n",
            "|lisa licitra        |22               |head and neck cancer               |\n",
            "|nicola di renzo     |21               |acute myeloid leukemia             |\n",
            "|davide chiumello    |21               |acute respiratory distress syndrome|\n",
            "|michele spina       |20               |diffuse large b-cell lymphoma      |\n",
            "|francesco zaja      |19               |mantle cell lymphoma               |\n",
            "|renato bassan       |18               |acute lymphoblastic leukemia       |\n",
            "|bryan a. faller     |18               |stage iiib lung cancer ajcc v8     |\n",
            "|luca arcaini        |18               |follicular lymphoma                |\n",
            "|cesare gridelli     |18               |advanced non-small cell lung cancer|\n",
            "|fabrizio pane       |18               |anemia                             |\n",
            "|site                |17               |melanoma                           |\n",
            "+--------------------+-----------------+-----------------------------------+\n",
            "only showing top 20 rows\n",
            "\n"
          ]
        }
      ]
    }
  ]
}